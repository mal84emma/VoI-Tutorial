{
 "cells": [
  {
   "cell_type": "markdown",
   "id": "04f14efb",
   "metadata": {},
   "source": [
    "# Optimisation of commerical building energy system"
   ]
  },
  {
   "cell_type": "markdown",
   "id": "db23cf4a",
   "metadata": {},
   "source": [
    "ToDo: provide context of decarbonisation task, building energy system model, etc."
   ]
  },
  {
   "cell_type": "markdown",
   "id": "5d5d8e4e",
   "metadata": {},
   "source": [
    "#### Setup"
   ]
  },
  {
   "cell_type": "code",
   "execution_count": 1,
   "id": "e7f76c71",
   "metadata": {},
   "outputs": [],
   "source": [
    "# import packages and required functions\n",
    "from tqdm.auto import tqdm\n",
    "import numpy as np\n",
    "from numpy import random\n",
    "from scipy import stats\n",
    "from models import run_model\n",
    "from functools import partial\n",
    "from utils import get_Gurobi_WLS_env, fmt_design_results"
   ]
  },
  {
   "cell_type": "code",
   "execution_count": 2,
   "id": "6cc126d0",
   "metadata": {},
   "outputs": [],
   "source": [
    "# quality of life stuff\n",
    "env = get_Gurobi_WLS_env(silence=True)\n",
    "run_model = partial(run_model, env=env)"
   ]
  },
  {
   "cell_type": "code",
   "execution_count": 3,
   "id": "1115d460",
   "metadata": {},
   "outputs": [],
   "source": [
    "solar_years = range(2012,2018)\n",
    "load_years = range(2012,2018)\n",
    "random.seed(42)"
   ]
  },
  {
   "cell_type": "markdown",
   "id": "c2849e93",
   "metadata": {},
   "source": [
    "#### ... hand-fed design ..."
   ]
  },
  {
   "cell_type": "code",
   "execution_count": 4,
   "id": "99442086",
   "metadata": {},
   "outputs": [],
   "source": [
    "design_options = [\n",
    "    [500,400],\n",
    "    [500,600],\n",
    "    [600,600],\n",
    "    [750,600],\n",
    "    [750,800],\n",
    "]"
   ]
  },
  {
   "cell_type": "code",
   "execution_count": null,
   "id": "e41d0730",
   "metadata": {},
   "outputs": [],
   "source": [
    "det_results = [run_model(*design) for design in tqdm(design_options, desc='Assessing designs')]"
   ]
  },
  {
   "cell_type": "code",
   "execution_count": null,
   "id": "3ab09a78",
   "metadata": {},
   "outputs": [],
   "source": [
    "print([r['total'] for r in det_results])"
   ]
  },
  {
   "cell_type": "code",
   "execution_count": null,
   "id": "bd503a93",
   "metadata": {},
   "outputs": [],
   "source": [
    "best_det_design = det_results[np.argmin([r['total'] for r in det_results])]\n",
    "print(fmt_design_results(best_det_design))"
   ]
  },
  {
   "cell_type": "code",
   "execution_count": null,
   "id": "82536846",
   "metadata": {},
   "outputs": [],
   "source": [
    "nosystem_results = run_model(0, 0)\n",
    "print(fmt_design_results(nosystem_results))"
   ]
  },
  {
   "cell_type": "markdown",
   "id": "0ce694ee",
   "metadata": {},
   "source": [
    "Therefore, installing the solar-battery system saves ..., i.e. reduces total cost of providing building load by ...%"
   ]
  },
  {
   "cell_type": "markdown",
   "id": "b00a9103",
   "metadata": {},
   "source": [
    "#### Designing using the Linear Program"
   ]
  },
  {
   "cell_type": "code",
   "execution_count": null,
   "id": "c3ac469b",
   "metadata": {},
   "outputs": [],
   "source": [
    "LP_results = run_model(None,None)\n",
    "print(fmt_design_results(LP_results))"
   ]
  },
  {
   "cell_type": "markdown",
   "id": "fcdb4df1",
   "metadata": {},
   "source": [
    "Improvement from LP vs static options"
   ]
  },
  {
   "cell_type": "code",
   "execution_count": null,
   "id": "d648afee",
   "metadata": {},
   "outputs": [],
   "source": [
    "design_improvement = best_det_design['total'] - LP_results['total']\n",
    "print(f\"£{round((design_improvement)/1e3,2)}k/yr\")\n",
    "print(f\"{round((design_improvement)/best_det_design['total']*100,2)}%\")"
   ]
  },
  {
   "cell_type": "markdown",
   "id": "8a817206",
   "metadata": {},
   "source": [
    "#### Accounting for uncertainty during design"
   ]
  },
  {
   "cell_type": "code",
   "execution_count": null,
   "id": "0d80ac59",
   "metadata": {},
   "outputs": [],
   "source": [
    "stoch_results = [run_model(*design, solar_year=solar_years) for design in tqdm(design_options, desc='Assessing designs')]\n",
    "# note trick of getting optimiser to simultaneously solve independent scenarios"
   ]
  },
  {
   "cell_type": "code",
   "execution_count": null,
   "id": "483da7c4",
   "metadata": {},
   "outputs": [],
   "source": [
    "best_stoch_design = stoch_results[np.argmin([r['total'] for r in stoch_results])]\n",
    "print(fmt_design_results(best_stoch_design))"
   ]
  },
  {
   "cell_type": "markdown",
   "id": "2f688afd",
   "metadata": {},
   "source": [
    "Look at cost estimation error of deterministic optimisation"
   ]
  },
  {
   "cell_type": "code",
   "execution_count": null,
   "id": "71c60ebb",
   "metadata": {},
   "outputs": [],
   "source": [
    "cost_est_error = best_stoch_design['total'] - best_det_design['total']\n",
    "print(f\"£{round((cost_est_error)/1e3,2)}k/yr\")\n",
    "print(f\"{round((cost_est_error)/best_stoch_design['total']*100,2)}%\")"
   ]
  },
  {
   "cell_type": "markdown",
   "id": "5fdd4a67",
   "metadata": {},
   "source": [
    "SP ..."
   ]
  },
  {
   "cell_type": "code",
   "execution_count": null,
   "id": "e0d6f074",
   "metadata": {},
   "outputs": [],
   "source": [
    "SP_results = run_model(None,None,solar_year=list(range(2012,2018)))\n",
    "print(fmt_design_results(SP_results))"
   ]
  },
  {
   "cell_type": "markdown",
   "id": "de2af5b2",
   "metadata": {},
   "source": [
    "Improvement from SP vs static options"
   ]
  },
  {
   "cell_type": "code",
   "execution_count": null,
   "id": "3148ff53",
   "metadata": {},
   "outputs": [],
   "source": [
    "design_improvement = best_stoch_design['total'] - SP_results['total']\n",
    "print(f\"£{round((design_improvement)/1e3,2)}k/yr\")\n",
    "print(f\"{round((design_improvement)/best_stoch_design['total']*100,2)}%\")"
   ]
  },
  {
   "cell_type": "markdown",
   "id": "c1197066",
   "metadata": {},
   "source": [
    "... VSS ..."
   ]
  },
  {
   "cell_type": "code",
   "execution_count": null,
   "id": "9ae04abd",
   "metadata": {},
   "outputs": [],
   "source": [
    "try:\n",
    "    run_model(LP_results['solar_capacity'],LP_results['battery_capacity'],solar_year=[2017])\n",
    "except Exception as e:\n",
    "    print(f\"Encountered error: {e}\")"
   ]
  },
  {
   "cell_type": "markdown",
   "id": "a163b333",
   "metadata": {},
   "source": [
    "Oops, deterministic LP leads to an infeasible solution given the uncertainties!"
   ]
  },
  {
   "cell_type": "code",
   "execution_count": null,
   "id": "01de03e4",
   "metadata": {},
   "outputs": [],
   "source": [
    "LP_avg_cost = run_model(\n",
    "    LP_results['solar_capacity']*0.95,\n",
    "    LP_results['battery_capacity'],\n",
    "    solar_year=solar_years\n",
    "    )['total']\n",
    "\n",
    "vss = (LP_avg_cost - SP_results['total'])\n",
    "print(f\"Value of stochastic solution: £{round((vss)/1e3,2)}k/yr\")\n",
    "print(f\"VSS as % of SP solution: {round((vss)/SP_results['total']*100,2)}%\")"
   ]
  },
  {
   "cell_type": "markdown",
   "id": "8471f681",
   "metadata": {},
   "source": [
    "Stochastic optimisation with lots of uncertainties ..."
   ]
  },
  {
   "cell_type": "code",
   "execution_count": null,
   "id": "fe92c74b",
   "metadata": {},
   "outputs": [],
   "source": [
    "nsamples = 10\n",
    "scenarios = {\n",
    "    'solar_year': random.choice(solar_years, nsamples),\n",
    "    'load_year': random.choice(load_years, nsamples),\n",
    "    'mean_load': stats.truncnorm.rvs(-2, 2, loc=100, scale=10, size=nsamples),\n",
    "    'battery_efficiency': stats.truncnorm.rvs(-2, 2, loc=0.95, scale=0.05, size=nsamples),\n",
    "    'battery_cost': stats.truncnorm.rvs(-2, 2, loc=70, scale=5, size=nsamples),\n",
    "}"
   ]
  },
  {
   "cell_type": "code",
   "execution_count": null,
   "id": "7d4f6924",
   "metadata": {},
   "outputs": [],
   "source": [
    "stoch2_results = [run_model(*design, **scenarios) for design in tqdm(design_options, desc='Assessing designs')]"
   ]
  },
  {
   "cell_type": "code",
   "execution_count": null,
   "id": "847aff64",
   "metadata": {},
   "outputs": [],
   "source": [
    "best_stoch2_design = stoch2_results[np.argmin([r['total'] for r in stoch2_results])]\n",
    "print(fmt_design_results(best_stoch2_design))"
   ]
  },
  {
   "cell_type": "code",
   "execution_count": null,
   "id": "dc7ec08f",
   "metadata": {},
   "outputs": [],
   "source": [
    "SP_results2 = run_model(\n",
    "    solar_capacity=None,\n",
    "    battery_capacity=None,\n",
    "    solar_year=scenarios['solar_year'],\n",
    "    load_year=scenarios['load_year'],\n",
    "    mean_load=scenarios['mean_load'],\n",
    "    battery_efficiency=scenarios['battery_efficiency'],\n",
    "    battery_cost=scenarios['battery_cost']\n",
    ")"
   ]
  },
  {
   "cell_type": "code",
   "execution_count": null,
   "id": "66521451",
   "metadata": {},
   "outputs": [],
   "source": [
    "print(fmt_design_results(SP_results2))"
   ]
  },
  {
   "cell_type": "markdown",
   "id": "5b711a75",
   "metadata": {},
   "source": [
    "Could also then look at benefit of continuous solution (i.e. SP vs discrete stochastic), and Value of Stochastic Solution"
   ]
  },
  {
   "cell_type": "code",
   "execution_count": null,
   "id": "bd734e6e",
   "metadata": {},
   "outputs": [],
   "source": [
    "design_improvement = best_stoch2_design['total'] - SP_results2['total']\n",
    "print(f\"£{round((design_improvement)/1e3,2)}k/yr\")\n",
    "print(f\"{round((design_improvement)/best_stoch2_design['total']*100,2)}%\")"
   ]
  },
  {
   "cell_type": "code",
   "execution_count": null,
   "id": "246ea07f",
   "metadata": {},
   "outputs": [],
   "source": [
    "LP_avg_cost2 = run_model(\n",
    "    LP_results['solar_capacity']*0.9,\n",
    "    LP_results['battery_capacity'],\n",
    "    **scenarios\n",
    "    )['total']\n",
    "\n",
    "vss2 = (LP_avg_cost2 - SP_results2['total'])\n",
    "print(f\"Value of stochastic solution: £{round((vss2)/1e3,2)}k/yr\")\n",
    "print(f\"VSS as % of SP solution: {round((vss2)/SP_results2['total']*100,2)}%\")"
   ]
  },
  {
   "cell_type": "code",
   "execution_count": null,
   "id": "672bcdcd",
   "metadata": {},
   "outputs": [],
   "source": []
  }
 ],
 "metadata": {
  "kernelspec": {
   "display_name": "VOItute",
   "language": "python",
   "name": "python3"
  },
  "language_info": {
   "codemirror_mode": {
    "name": "ipython",
    "version": 3
   },
   "file_extension": ".py",
   "mimetype": "text/x-python",
   "name": "python",
   "nbconvert_exporter": "python",
   "pygments_lexer": "ipython3",
   "version": "3.10.18"
  }
 },
 "nbformat": 4,
 "nbformat_minor": 5
}
