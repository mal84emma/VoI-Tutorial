{
 "cells": [
  {
   "cell_type": "markdown",
   "id": "04f14efb",
   "metadata": {},
   "source": [
    "# Optimisation of commerical building energy system"
   ]
  },
  {
   "cell_type": "markdown",
   "id": "db23cf4a",
   "metadata": {},
   "source": [
    "Model of a large commercial building (100kW mean load is pretty hefty)"
   ]
  },
  {
   "cell_type": "markdown",
   "id": "5d5d8e4e",
   "metadata": {},
   "source": [
    "Setup stuff"
   ]
  },
  {
   "cell_type": "code",
   "execution_count": 1,
   "id": "e7f76c71",
   "metadata": {},
   "outputs": [],
   "source": [
    "from tqdm.auto import tqdm\n",
    "import numpy as np\n",
    "from numpy import random\n",
    "from scipy import stats\n",
    "from models import run_model\n",
    "from functools import partial\n",
    "from utils import get_Gurobi_WLS_env, fmt_design_results"
   ]
  },
  {
   "cell_type": "code",
   "execution_count": 2,
   "id": "6cc126d0",
   "metadata": {},
   "outputs": [],
   "source": [
    "env = get_Gurobi_WLS_env(silence=True)\n",
    "run_model = partial(run_model, env=env)"
   ]
  },
  {
   "cell_type": "code",
   "execution_count": 3,
   "id": "1115d460",
   "metadata": {},
   "outputs": [],
   "source": [
    "solar_years = range(2012,2018)\n",
    "load_years = range(2012,2018)\n",
    "random.seed(42)"
   ]
  },
  {
   "cell_type": "code",
   "execution_count": 4,
   "id": "99442086",
   "metadata": {},
   "outputs": [],
   "source": [
    "design_options = [\n",
    "    [500,200],\n",
    "    [500,400],\n",
    "    [600,500],\n",
    "    [750,600],\n",
    "    [750,800]\n",
    "]"
   ]
  },
  {
   "cell_type": "code",
   "execution_count": 5,
   "id": "e41d0730",
   "metadata": {},
   "outputs": [
    {
     "data": {
      "application/vnd.jupyter.widget-view+json": {
       "model_id": "b220082de9ba408795586187d4772572",
       "version_major": 2,
       "version_minor": 0
      },
      "text/plain": [
       "Assessing designs:   0%|          | 0/5 [00:00<?, ?it/s]"
      ]
     },
     "metadata": {},
     "output_type": "display_data"
    }
   ],
   "source": [
    "results = [run_model(*design) for design in tqdm(design_options, desc='Assessing designs')]"
   ]
  },
  {
   "cell_type": "code",
   "execution_count": 40,
   "id": "bd503a93",
   "metadata": {},
   "outputs": [
    {
     "name": "stdout",
     "output_type": "stream",
     "text": [
      "Parameter         Unit      Value\n",
      "----------------  ------  -------\n",
      "Solar capacity    kWp       750\n",
      "Battery capacity  kWh       600\n",
      "Total cost        £k/yr     168.4\n",
      "CAPEX             £k/yr     102\n",
      "OPEX              £k/yr      66.4\n"
     ]
    }
   ],
   "source": [
    "best_design = results[np.argmin([r['total'] for r in results])]\n",
    "print(fmt_design_results(best_design))"
   ]
  },
  {
   "cell_type": "code",
   "execution_count": 41,
   "id": "82536846",
   "metadata": {},
   "outputs": [
    {
     "name": "stdout",
     "output_type": "stream",
     "text": [
      "Parameter         Unit      Value\n",
      "----------------  ------  -------\n",
      "Solar capacity    kWp         0\n",
      "Battery capacity  kWh         0\n",
      "Total cost        £k/yr     214.2\n",
      "CAPEX             £k/yr       0\n",
      "OPEX              £k/yr     214.2\n"
     ]
    }
   ],
   "source": [
    "nosystem_results = run_model(0, 0)\n",
    "print(fmt_design_results(nosystem_results))"
   ]
  },
  {
   "cell_type": "markdown",
   "id": "0ce694ee",
   "metadata": {},
   "source": [
    "Therefore, installing the solar-battery system saves ..., i.e. reduces total cost of providing building load by ...%"
   ]
  },
  {
   "cell_type": "markdown",
   "id": "b00a9103",
   "metadata": {},
   "source": [
    "#### Designing using the Linear Program"
   ]
  },
  {
   "cell_type": "code",
   "execution_count": 42,
   "id": "c3ac469b",
   "metadata": {},
   "outputs": [
    {
     "name": "stdout",
     "output_type": "stream",
     "text": [
      "Parameter         Unit      Value\n",
      "----------------  ------  -------\n",
      "Solar capacity    kWp       834.6\n",
      "Battery capacity  kWh       343.3\n",
      "Total cost        £k/yr     161.7\n",
      "CAPEX             £k/yr      90.8\n",
      "OPEX              £k/yr      70.9\n"
     ]
    }
   ],
   "source": [
    "LP_results = run_model(None,None)\n",
    "print(fmt_design_results(LP_results))"
   ]
  },
  {
   "cell_type": "markdown",
   "id": "fcdb4df1",
   "metadata": {},
   "source": [
    "Improvement from LP vs static options"
   ]
  },
  {
   "cell_type": "code",
   "execution_count": 43,
   "id": "d648afee",
   "metadata": {},
   "outputs": [
    {
     "name": "stdout",
     "output_type": "stream",
     "text": [
      "£6.71k/yr\n",
      "3.99%\n"
     ]
    }
   ],
   "source": [
    "print(f\"£{round((best_design['total'] - LP_results['total'])/1e3,2)}k/yr\")\n",
    "print(f\"{round((best_design['total'] - LP_results['total'])/best_design['total']*100,2)}%\")"
   ]
  },
  {
   "cell_type": "markdown",
   "id": "8a817206",
   "metadata": {},
   "source": [
    "#### Accounting for uncertainty during design"
   ]
  },
  {
   "cell_type": "code",
   "execution_count": 45,
   "id": "0d80ac59",
   "metadata": {},
   "outputs": [
    {
     "data": {
      "application/vnd.jupyter.widget-view+json": {
       "model_id": "b77e4ea6086c4066b2791253ba152fe0",
       "version_major": 2,
       "version_minor": 0
      },
      "text/plain": [
       "  0%|          | 0/5 [00:00<?, ?it/s]"
      ]
     },
     "metadata": {},
     "output_type": "display_data"
    },
    {
     "data": {
      "application/vnd.jupyter.widget-view+json": {
       "model_id": "3d1805a736fd45a1a9c8f7203c23d959",
       "version_major": 2,
       "version_minor": 0
      },
      "text/plain": [
       "  0%|          | 0/6 [00:00<?, ?it/s]"
      ]
     },
     "metadata": {},
     "output_type": "display_data"
    },
    {
     "data": {
      "application/vnd.jupyter.widget-view+json": {
       "model_id": "1c524508797f436ea563fc57ce9fe4ae",
       "version_major": 2,
       "version_minor": 0
      },
      "text/plain": [
       "  0%|          | 0/6 [00:00<?, ?it/s]"
      ]
     },
     "metadata": {},
     "output_type": "display_data"
    },
    {
     "data": {
      "application/vnd.jupyter.widget-view+json": {
       "model_id": "01edefca38914d63ba8cb6c53386102a",
       "version_major": 2,
       "version_minor": 0
      },
      "text/plain": [
       "  0%|          | 0/6 [00:00<?, ?it/s]"
      ]
     },
     "metadata": {},
     "output_type": "display_data"
    },
    {
     "data": {
      "application/vnd.jupyter.widget-view+json": {
       "model_id": "4738d27a322c45b19bfd660c1df3a791",
       "version_major": 2,
       "version_minor": 0
      },
      "text/plain": [
       "  0%|          | 0/6 [00:00<?, ?it/s]"
      ]
     },
     "metadata": {},
     "output_type": "display_data"
    },
    {
     "data": {
      "application/vnd.jupyter.widget-view+json": {
       "model_id": "8c5df46e8717401aa5a978933bed6ac8",
       "version_major": 2,
       "version_minor": 0
      },
      "text/plain": [
       "  0%|          | 0/6 [00:00<?, ?it/s]"
      ]
     },
     "metadata": {},
     "output_type": "display_data"
    }
   ],
   "source": [
    "avg_costs = []\n",
    "for design in tqdm(design_options):\n",
    "    avg_cost = np.mean([run_model(*design, solar_year=[year])['total'] for year in tqdm(solar_years,leave=False)])\n",
    "    avg_costs.append(avg_cost)"
   ]
  },
  {
   "cell_type": "code",
   "execution_count": 46,
   "id": "3da1b078",
   "metadata": {},
   "outputs": [
    {
     "name": "stdout",
     "output_type": "stream",
     "text": [
      "166619.95467501873\n",
      "[750, 600]\n"
     ]
    }
   ],
   "source": [
    "print(min(avg_costs))\n",
    "print(design_options[np.argmin(avg_costs)])"
   ]
  },
  {
   "cell_type": "code",
   "execution_count": 47,
   "id": "edfd6731",
   "metadata": {},
   "outputs": [],
   "source": [
    "r=run_model(750,600,solar_year=solar_years)"
   ]
  },
  {
   "cell_type": "code",
   "execution_count": 49,
   "id": "483da7c4",
   "metadata": {},
   "outputs": [
    {
     "name": "stdout",
     "output_type": "stream",
     "text": [
      "166619.9546750187\n"
     ]
    }
   ],
   "source": [
    "print(r['total'])"
   ]
  },
  {
   "cell_type": "markdown",
   "id": "2f98efcf",
   "metadata": {},
   "source": [
    "Could use this little trick of getting the solver to optimise independent scenarios simultaneously - looks like it's giving the right numbers"
   ]
  },
  {
   "cell_type": "markdown",
   "id": "2f688afd",
   "metadata": {},
   "source": [
    "Look at cost estimation error of deterministic optimisation"
   ]
  },
  {
   "cell_type": "code",
   "execution_count": 11,
   "id": "71c60ebb",
   "metadata": {},
   "outputs": [
    {
     "name": "stdout",
     "output_type": "stream",
     "text": [
      "-1776.4531883149757\n",
      "-1.0661707307386026\n"
     ]
    }
   ],
   "source": [
    "print(min(avg_costs) - min(costs))\n",
    "print((min(avg_costs) - min(costs))/min(avg_costs) * 100)"
   ]
  },
  {
   "cell_type": "markdown",
   "id": "5fdd4a67",
   "metadata": {},
   "source": [
    "SP ..."
   ]
  },
  {
   "cell_type": "code",
   "execution_count": 14,
   "id": "e0d6f074",
   "metadata": {},
   "outputs": [
    {
     "name": "stdout",
     "output_type": "stream",
     "text": [
      "Parameter         Unit      Value\n",
      "----------------  ------  -------\n",
      "Solar capacity    kWp       794.8\n",
      "Battery capacity  kWh       340.7\n",
      "Total cost        £k/yr     160.5\n",
      "CAPEX             £k/yr      87.4\n",
      "OPEX              £k/yr      73.1\n"
     ]
    }
   ],
   "source": [
    "SP_results = run_model(None,None,solar_year=list(range(2012,2018)))\n",
    "print(fmt_design_results(SP_results))"
   ]
  },
  {
   "cell_type": "markdown",
   "id": "de2af5b2",
   "metadata": {},
   "source": [
    "Improvement from SP vs static options"
   ]
  },
  {
   "cell_type": "code",
   "execution_count": 15,
   "id": "3148ff53",
   "metadata": {},
   "outputs": [
    {
     "name": "stdout",
     "output_type": "stream",
     "text": [
      "-3.673709122439898\n"
     ]
    }
   ],
   "source": [
    "print((SP_results['total'] - min(avg_costs))/min(avg_costs)*100)"
   ]
  },
  {
   "cell_type": "markdown",
   "id": "8471f681",
   "metadata": {},
   "source": [
    "Stochastic optimisation with lots of uncertainties ..."
   ]
  },
  {
   "cell_type": "code",
   "execution_count": 16,
   "id": "fe92c74b",
   "metadata": {},
   "outputs": [],
   "source": [
    "nsamples = 10\n",
    "scenarios = {\n",
    "    'solar_year': random.choice(solar_years, nsamples),\n",
    "    'load_year': random.choice(load_years, nsamples),\n",
    "    'mean_load': stats.truncnorm.rvs(-2, 2, loc=100, scale=10, size=nsamples),\n",
    "    'battery_efficiency': stats.truncnorm.rvs(-2, 2, loc=0.95, scale=0.05, size=nsamples),\n",
    "    'battery_cost': stats.truncnorm.rvs(-2, 2, loc=70, scale=5, size=nsamples),\n",
    "}"
   ]
  },
  {
   "cell_type": "code",
   "execution_count": 17,
   "id": "b88eb613",
   "metadata": {},
   "outputs": [
    {
     "data": {
      "application/vnd.jupyter.widget-view+json": {
       "model_id": "ed360d91adca493baeaa02855b0e6754",
       "version_major": 2,
       "version_minor": 0
      },
      "text/plain": [
       "  0%|          | 0/5 [00:00<?, ?it/s]"
      ]
     },
     "metadata": {},
     "output_type": "display_data"
    },
    {
     "data": {
      "application/vnd.jupyter.widget-view+json": {
       "model_id": "d4689e7532ad4c0cae93f2f16e47eabe",
       "version_major": 2,
       "version_minor": 0
      },
      "text/plain": [
       "  0%|          | 0/10 [00:00<?, ?it/s]"
      ]
     },
     "metadata": {},
     "output_type": "display_data"
    },
    {
     "data": {
      "application/vnd.jupyter.widget-view+json": {
       "model_id": "4db19389e5e14e339539004ac7bfcc00",
       "version_major": 2,
       "version_minor": 0
      },
      "text/plain": [
       "  0%|          | 0/10 [00:00<?, ?it/s]"
      ]
     },
     "metadata": {},
     "output_type": "display_data"
    },
    {
     "data": {
      "application/vnd.jupyter.widget-view+json": {
       "model_id": "3349bf579487479b88ad576e242b26ca",
       "version_major": 2,
       "version_minor": 0
      },
      "text/plain": [
       "  0%|          | 0/10 [00:00<?, ?it/s]"
      ]
     },
     "metadata": {},
     "output_type": "display_data"
    },
    {
     "data": {
      "application/vnd.jupyter.widget-view+json": {
       "model_id": "40aa547ad66749dbb0cb2cc40278a70e",
       "version_major": 2,
       "version_minor": 0
      },
      "text/plain": [
       "  0%|          | 0/10 [00:00<?, ?it/s]"
      ]
     },
     "metadata": {},
     "output_type": "display_data"
    },
    {
     "data": {
      "application/vnd.jupyter.widget-view+json": {
       "model_id": "2a3c29a362cb414e8af410919282e922",
       "version_major": 2,
       "version_minor": 0
      },
      "text/plain": [
       "  0%|          | 0/10 [00:00<?, ?it/s]"
      ]
     },
     "metadata": {},
     "output_type": "display_data"
    }
   ],
   "source": [
    "avg_costs = []\n",
    "for design in tqdm(design_options):\n",
    "    avg_cost = np.mean([run_model(\n",
    "        *design,\n",
    "        solar_year=[scenarios['solar_year'][i]],\n",
    "        load_year=[scenarios['load_year'][i]],\n",
    "        mean_load=[scenarios['mean_load'][i]],\n",
    "        battery_efficiency=[scenarios['battery_efficiency'][i]],\n",
    "        battery_cost=[scenarios['battery_cost'][i]]\n",
    "        )['total']\n",
    "            for i in tqdm(range(nsamples),leave=False)])\n",
    "    avg_costs.append(avg_cost)"
   ]
  },
  {
   "cell_type": "code",
   "execution_count": 18,
   "id": "c793ed96",
   "metadata": {},
   "outputs": [
    {
     "name": "stdout",
     "output_type": "stream",
     "text": [
      "159855.46900462912\n",
      "[750, 600]\n"
     ]
    }
   ],
   "source": [
    "print(min(avg_costs))\n",
    "print(design_options[np.argmin(avg_costs)])"
   ]
  },
  {
   "cell_type": "code",
   "execution_count": 19,
   "id": "dc7ec08f",
   "metadata": {},
   "outputs": [],
   "source": [
    "SP_results = run_model(\n",
    "    solar_capacity=None,\n",
    "    battery_capacity=None,\n",
    "    solar_year=scenarios['solar_year'],\n",
    "    load_year=scenarios['load_year'],\n",
    "    mean_load=scenarios['mean_load'],\n",
    "    battery_efficiency=scenarios['battery_efficiency'],\n",
    "    battery_cost=scenarios['battery_cost']\n",
    ")"
   ]
  },
  {
   "cell_type": "code",
   "execution_count": 20,
   "id": "66521451",
   "metadata": {},
   "outputs": [
    {
     "name": "stdout",
     "output_type": "stream",
     "text": [
      "Parameter         Unit      Value\n",
      "----------------  ------  -------\n",
      "Solar capacity    kWp       772.9\n",
      "Battery capacity  kWh       400.3\n",
      "Total cost        £k/yr     156.6\n",
      "CAPEX             £k/yr      90.1\n",
      "OPEX              £k/yr      66.4\n"
     ]
    }
   ],
   "source": [
    "print(fmt_design_results(SP_results))"
   ]
  },
  {
   "cell_type": "markdown",
   "id": "5b711a75",
   "metadata": {},
   "source": [
    "Could also then look at benefit of continuous solution (i.e. SP vs discrete stochastic), and Value of Stochastic Solution"
   ]
  },
  {
   "cell_type": "code",
   "execution_count": null,
   "id": "246ea07f",
   "metadata": {},
   "outputs": [],
   "source": []
  }
 ],
 "metadata": {
  "kernelspec": {
   "display_name": "VOItute",
   "language": "python",
   "name": "python3"
  },
  "language_info": {
   "codemirror_mode": {
    "name": "ipython",
    "version": 3
   },
   "file_extension": ".py",
   "mimetype": "text/x-python",
   "name": "python",
   "nbconvert_exporter": "python",
   "pygments_lexer": "ipython3",
   "version": "3.10.17"
  }
 },
 "nbformat": 4,
 "nbformat_minor": 5
}
