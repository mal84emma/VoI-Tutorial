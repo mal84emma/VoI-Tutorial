{
 "cells": [
  {
   "cell_type": "markdown",
   "id": "04f14efb",
   "metadata": {},
   "source": [
    "# Optimisation of commerical building energy system"
   ]
  },
  {
   "cell_type": "markdown",
   "id": "db23cf4a",
   "metadata": {},
   "source": [
    "Model of a large commercial building (100kW mean load is pretty hefty)"
   ]
  },
  {
   "cell_type": "markdown",
   "id": "5d5d8e4e",
   "metadata": {},
   "source": [
    "Setup stuff"
   ]
  },
  {
   "cell_type": "code",
   "execution_count": 1,
   "id": "e7f76c71",
   "metadata": {},
   "outputs": [],
   "source": [
    "from tqdm.auto import tqdm\n",
    "import numpy as np\n",
    "from numpy import random\n",
    "from scipy import stats\n",
    "from models import run_model\n",
    "from functools import partial\n",
    "from utils import get_Gurobi_WLS_env, fmt_design_results"
   ]
  },
  {
   "cell_type": "code",
   "execution_count": 2,
   "id": "6cc126d0",
   "metadata": {},
   "outputs": [],
   "source": [
    "env = get_Gurobi_WLS_env(silence=True)\n",
    "run_model = partial(run_model, env=env)"
   ]
  },
  {
   "cell_type": "code",
   "execution_count": 3,
   "id": "1115d460",
   "metadata": {},
   "outputs": [],
   "source": [
    "solar_years = range(2012,2018)\n",
    "load_years = range(2012,2018)"
   ]
  },
  {
   "cell_type": "code",
   "execution_count": 4,
   "id": "99442086",
   "metadata": {},
   "outputs": [],
   "source": [
    "design_options = [\n",
    "    [500,200],\n",
    "    [500,400],\n",
    "    [600,500],\n",
    "    [750,600],\n",
    "    [750,800]\n",
    "]"
   ]
  },
  {
   "cell_type": "code",
   "execution_count": 5,
   "id": "e41d0730",
   "metadata": {},
   "outputs": [
    {
     "data": {
      "application/vnd.jupyter.widget-view+json": {
       "model_id": "93f5d6568fe24849997f0b773dd99e1e",
       "version_major": 2,
       "version_minor": 0
      },
      "text/plain": [
       "  0%|          | 0/5 [00:00<?, ?it/s]"
      ]
     },
     "metadata": {},
     "output_type": "display_data"
    }
   ],
   "source": [
    "costs = []\n",
    "for design in tqdm(design_options):\n",
    "    costs.append(run_model(*design)['total'])"
   ]
  },
  {
   "cell_type": "code",
   "execution_count": 6,
   "id": "9e51a99d",
   "metadata": {},
   "outputs": [
    {
     "name": "stdout",
     "output_type": "stream",
     "text": [
      "[170403.00530292297, 172220.64528958552, 170352.38107085635, 168396.4078633337, 175434.6180990048]\n"
     ]
    }
   ],
   "source": [
    "print(costs)"
   ]
  },
  {
   "cell_type": "code",
   "execution_count": 7,
   "id": "46ebab95",
   "metadata": {},
   "outputs": [
    {
     "name": "stdout",
     "output_type": "stream",
     "text": [
      "168396.4078633337\n",
      "[750, 600]\n"
     ]
    }
   ],
   "source": [
    "print(min(costs))\n",
    "print(design_options[np.argmin(costs)])"
   ]
  },
  {
   "cell_type": "code",
   "execution_count": 8,
   "id": "82536846",
   "metadata": {},
   "outputs": [
    {
     "name": "stdout",
     "output_type": "stream",
     "text": [
      "214167.54841474074\n"
     ]
    }
   ],
   "source": [
    "cfact_cost = run_model(0, 0)['total']\n",
    "print(cfact_cost)"
   ]
  },
  {
   "cell_type": "markdown",
   "id": "8a817206",
   "metadata": {},
   "source": [
    "Stochastic optimization ..."
   ]
  },
  {
   "cell_type": "code",
   "execution_count": 9,
   "id": "0d80ac59",
   "metadata": {},
   "outputs": [
    {
     "data": {
      "application/vnd.jupyter.widget-view+json": {
       "model_id": "754aaeba93dd4ccba353c70b6360d508",
       "version_major": 2,
       "version_minor": 0
      },
      "text/plain": [
       "  0%|          | 0/5 [00:00<?, ?it/s]"
      ]
     },
     "metadata": {},
     "output_type": "display_data"
    },
    {
     "data": {
      "application/vnd.jupyter.widget-view+json": {
       "model_id": "b6dd22d2e51249fa97b72a3cd1245042",
       "version_major": 2,
       "version_minor": 0
      },
      "text/plain": [
       "  0%|          | 0/6 [00:00<?, ?it/s]"
      ]
     },
     "metadata": {},
     "output_type": "display_data"
    },
    {
     "data": {
      "application/vnd.jupyter.widget-view+json": {
       "model_id": "dd9e405d3ac749b982e1fb765b44cfd7",
       "version_major": 2,
       "version_minor": 0
      },
      "text/plain": [
       "  0%|          | 0/6 [00:00<?, ?it/s]"
      ]
     },
     "metadata": {},
     "output_type": "display_data"
    },
    {
     "data": {
      "application/vnd.jupyter.widget-view+json": {
       "model_id": "9bebb8832fef4b989a93575c1b29a48b",
       "version_major": 2,
       "version_minor": 0
      },
      "text/plain": [
       "  0%|          | 0/6 [00:00<?, ?it/s]"
      ]
     },
     "metadata": {},
     "output_type": "display_data"
    },
    {
     "data": {
      "application/vnd.jupyter.widget-view+json": {
       "model_id": "3146dc3f9df84ce3bd7fd79e38f6f2dc",
       "version_major": 2,
       "version_minor": 0
      },
      "text/plain": [
       "  0%|          | 0/6 [00:00<?, ?it/s]"
      ]
     },
     "metadata": {},
     "output_type": "display_data"
    },
    {
     "data": {
      "application/vnd.jupyter.widget-view+json": {
       "model_id": "3a1d9a540add4084b2f6e75b91bf6b5a",
       "version_major": 2,
       "version_minor": 0
      },
      "text/plain": [
       "  0%|          | 0/6 [00:00<?, ?it/s]"
      ]
     },
     "metadata": {},
     "output_type": "display_data"
    }
   ],
   "source": [
    "avg_costs = []\n",
    "for design in tqdm(design_options):\n",
    "    avg_cost = np.mean([run_model(*design, solar_year=[year])['total'] for year in tqdm(solar_years,leave=False)])\n",
    "    avg_costs.append(avg_cost)"
   ]
  },
  {
   "cell_type": "code",
   "execution_count": 10,
   "id": "3da1b078",
   "metadata": {},
   "outputs": [
    {
     "name": "stdout",
     "output_type": "stream",
     "text": [
      "166619.95467501873\n",
      "[750, 600]\n"
     ]
    }
   ],
   "source": [
    "print(min(avg_costs))\n",
    "print(design_options[np.argmin(avg_costs)])"
   ]
  },
  {
   "cell_type": "code",
   "execution_count": 11,
   "id": "71c60ebb",
   "metadata": {},
   "outputs": [
    {
     "name": "stdout",
     "output_type": "stream",
     "text": [
      "-1776.4531883149757\n",
      "-1.0661707307386026\n"
     ]
    }
   ],
   "source": [
    "print(min(avg_costs) - min(costs))\n",
    "print((min(avg_costs) - min(costs))/min(avg_costs) * 100)"
   ]
  },
  {
   "cell_type": "markdown",
   "id": "b00a9103",
   "metadata": {},
   "source": [
    "LP ..."
   ]
  },
  {
   "cell_type": "code",
   "execution_count": 12,
   "id": "c3ac469b",
   "metadata": {},
   "outputs": [
    {
     "name": "stdout",
     "output_type": "stream",
     "text": [
      "Parameter         Unit      Value\n",
      "----------------  ------  -------\n",
      "Solar capacity    kWp       834.6\n",
      "Battery capacity  kWh       343.3\n",
      "Total cost        £k/yr     161.7\n",
      "CAPEX             £k/yr      90.8\n",
      "OPEX              £k/yr      70.9\n"
     ]
    }
   ],
   "source": [
    "LP_results = run_model(None,None)\n",
    "print(fmt_design_results(LP_results))"
   ]
  },
  {
   "cell_type": "markdown",
   "id": "fcdb4df1",
   "metadata": {},
   "source": [
    "Improvement from LP vs static options"
   ]
  },
  {
   "cell_type": "code",
   "execution_count": 13,
   "id": "d648afee",
   "metadata": {},
   "outputs": [
    {
     "name": "stdout",
     "output_type": "stream",
     "text": [
      "-6713.300381640845\n",
      "-3.9866054548439007\n"
     ]
    }
   ],
   "source": [
    "print(LP_results['total'] - min(costs))\n",
    "print((LP_results['total'] - min(costs))/min(costs)*100)"
   ]
  },
  {
   "cell_type": "markdown",
   "id": "5fdd4a67",
   "metadata": {},
   "source": [
    "SP ..."
   ]
  },
  {
   "cell_type": "code",
   "execution_count": 14,
   "id": "e0d6f074",
   "metadata": {},
   "outputs": [
    {
     "name": "stdout",
     "output_type": "stream",
     "text": [
      "Parameter         Unit      Value\n",
      "----------------  ------  -------\n",
      "Solar capacity    kWp       794.8\n",
      "Battery capacity  kWh       340.7\n",
      "Total cost        £k/yr     160.5\n",
      "CAPEX             £k/yr      87.4\n",
      "OPEX              £k/yr      73.1\n"
     ]
    }
   ],
   "source": [
    "SP_results = run_model(None,None,solar_year=list(range(2012,2018)))\n",
    "print(fmt_design_results(SP_results))"
   ]
  },
  {
   "cell_type": "code",
   "execution_count": 15,
   "id": "3148ff53",
   "metadata": {},
   "outputs": [
    {
     "name": "stdout",
     "output_type": "stream",
     "text": [
      "-3.673709122439898\n"
     ]
    }
   ],
   "source": [
    "print((SP_results['total'] - min(avg_costs))/min(avg_costs)*100)"
   ]
  },
  {
   "cell_type": "markdown",
   "id": "8471f681",
   "metadata": {},
   "source": [
    "Stochastic optimisation with lots of uncertainties ..."
   ]
  },
  {
   "cell_type": "code",
   "execution_count": 23,
   "id": "fe92c74b",
   "metadata": {},
   "outputs": [],
   "source": [
    "nsamples = 10\n",
    "scenarios = {\n",
    "    'solar_year': random.choice(solar_years, nsamples),\n",
    "    'load_year': random.choice(load_years, nsamples),\n",
    "    'mean_load': stats.truncnorm.rvs(-2, 2, loc=100, scale=10, size=nsamples),\n",
    "    'battery_efficiency': stats.truncnorm.rvs(-2, 2, loc=0.95, scale=0.05, size=nsamples),\n",
    "    'battery_cost': stats.truncnorm.rvs(-2, 2, loc=70, scale=5, size=nsamples),\n",
    "}"
   ]
  },
  {
   "cell_type": "code",
   "execution_count": 24,
   "id": "b88eb613",
   "metadata": {},
   "outputs": [
    {
     "data": {
      "application/vnd.jupyter.widget-view+json": {
       "model_id": "f934d8f8b99a4838827680f014d5ab43",
       "version_major": 2,
       "version_minor": 0
      },
      "text/plain": [
       "  0%|          | 0/5 [00:00<?, ?it/s]"
      ]
     },
     "metadata": {},
     "output_type": "display_data"
    },
    {
     "data": {
      "application/vnd.jupyter.widget-view+json": {
       "model_id": "b9a3e360e327451ca6c009da5b3684a7",
       "version_major": 2,
       "version_minor": 0
      },
      "text/plain": [
       "  0%|          | 0/10 [00:00<?, ?it/s]"
      ]
     },
     "metadata": {},
     "output_type": "display_data"
    },
    {
     "data": {
      "application/vnd.jupyter.widget-view+json": {
       "model_id": "0f2814d391a1490ba0ee41ac86d5c8c3",
       "version_major": 2,
       "version_minor": 0
      },
      "text/plain": [
       "  0%|          | 0/10 [00:00<?, ?it/s]"
      ]
     },
     "metadata": {},
     "output_type": "display_data"
    },
    {
     "data": {
      "application/vnd.jupyter.widget-view+json": {
       "model_id": "fc6384e4eef54147b6f889404eb12e61",
       "version_major": 2,
       "version_minor": 0
      },
      "text/plain": [
       "  0%|          | 0/10 [00:00<?, ?it/s]"
      ]
     },
     "metadata": {},
     "output_type": "display_data"
    },
    {
     "data": {
      "application/vnd.jupyter.widget-view+json": {
       "model_id": "e227b30589ef47e09e37c296f402b7dc",
       "version_major": 2,
       "version_minor": 0
      },
      "text/plain": [
       "  0%|          | 0/10 [00:00<?, ?it/s]"
      ]
     },
     "metadata": {},
     "output_type": "display_data"
    },
    {
     "data": {
      "application/vnd.jupyter.widget-view+json": {
       "model_id": "579781549b4340928abe7ea6d69e997e",
       "version_major": 2,
       "version_minor": 0
      },
      "text/plain": [
       "  0%|          | 0/10 [00:00<?, ?it/s]"
      ]
     },
     "metadata": {},
     "output_type": "display_data"
    }
   ],
   "source": [
    "avg_costs = []\n",
    "for design in tqdm(design_options):\n",
    "    avg_cost = np.mean([run_model(\n",
    "        *design,\n",
    "        solar_year=[scenarios['solar_year'][i]],\n",
    "        load_year=[scenarios['load_year'][i]],\n",
    "        mean_load=[scenarios['mean_load'][i]],\n",
    "        battery_efficiency=[scenarios['battery_efficiency'][i]],\n",
    "        battery_cost=[scenarios['battery_cost'][i]]\n",
    "        )['total']\n",
    "            for i in tqdm(range(nsamples),leave=False)])\n",
    "    avg_costs.append(avg_cost)"
   ]
  },
  {
   "cell_type": "code",
   "execution_count": 25,
   "id": "c793ed96",
   "metadata": {},
   "outputs": [
    {
     "name": "stdout",
     "output_type": "stream",
     "text": [
      "162491.5696527055\n",
      "[750, 600]\n"
     ]
    }
   ],
   "source": [
    "print(min(avg_costs))\n",
    "print(design_options[np.argmin(avg_costs)])"
   ]
  },
  {
   "cell_type": "code",
   "execution_count": 26,
   "id": "dc7ec08f",
   "metadata": {},
   "outputs": [],
   "source": [
    "SP_results = run_model(\n",
    "    solar_capacity=None,\n",
    "    battery_capacity=None,\n",
    "    solar_year=scenarios['solar_year'],\n",
    "    load_year=scenarios['load_year'],\n",
    "    mean_load=scenarios['mean_load'],\n",
    "    battery_efficiency=scenarios['battery_efficiency'],\n",
    "    battery_cost=scenarios['battery_cost']\n",
    ")"
   ]
  },
  {
   "cell_type": "code",
   "execution_count": 27,
   "id": "66521451",
   "metadata": {},
   "outputs": [
    {
     "name": "stdout",
     "output_type": "stream",
     "text": [
      "Parameter         Unit      Value\n",
      "----------------  ------  -------\n",
      "Solar capacity    kWp       765.2\n",
      "Battery capacity  kWh       327\n",
      "Total cost        £k/yr     157.2\n",
      "CAPEX             £k/yr      84.3\n",
      "OPEX              £k/yr      72.8\n"
     ]
    }
   ],
   "source": [
    "print(fmt_design_results(SP_results))"
   ]
  },
  {
   "cell_type": "markdown",
   "id": "5b711a75",
   "metadata": {},
   "source": [
    "Could also then look at benefit of continuous solution (i.e. SP vs discrete stochastic), and Value of Stochastic Solution"
   ]
  },
  {
   "cell_type": "code",
   "execution_count": null,
   "id": "246ea07f",
   "metadata": {},
   "outputs": [],
   "source": []
  }
 ],
 "metadata": {
  "kernelspec": {
   "display_name": "VOItute",
   "language": "python",
   "name": "python3"
  },
  "language_info": {
   "codemirror_mode": {
    "name": "ipython",
    "version": 3
   },
   "file_extension": ".py",
   "mimetype": "text/x-python",
   "name": "python",
   "nbconvert_exporter": "python",
   "pygments_lexer": "ipython3",
   "version": "3.10.17"
  }
 },
 "nbformat": 4,
 "nbformat_minor": 5
}
