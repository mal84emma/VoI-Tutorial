{
 "cells": [
  {
   "cell_type": "markdown",
   "id": "04f14efb",
   "metadata": {},
   "source": [
    "# Optimisation of commerical building energy system"
   ]
  },
  {
   "cell_type": "markdown",
   "id": "db23cf4a",
   "metadata": {},
   "source": [
    "ToDo: provide context of decarbonisation task, building energy system model, etc."
   ]
  },
  {
   "cell_type": "markdown",
   "id": "5d5d8e4e",
   "metadata": {},
   "source": [
    "#### Setup"
   ]
  },
  {
   "cell_type": "code",
   "execution_count": 1,
   "id": "e7f76c71",
   "metadata": {},
   "outputs": [],
   "source": [
    "# import packages and required functions\n",
    "from tqdm.auto import tqdm\n",
    "import numpy as np\n",
    "from numpy import random\n",
    "from scipy import stats\n",
    "from models import run_model\n",
    "from functools import partial\n",
    "from utils import get_Gurobi_WLS_env, fmt_design_results"
   ]
  },
  {
   "cell_type": "code",
   "execution_count": null,
   "id": "6cc126d0",
   "metadata": {},
   "outputs": [],
   "source": [
    "# quality of life stuff\n",
    "env = get_Gurobi_WLS_env(silence=True)\n",
    "run_model = partial(run_model, env=env)\n",
    "random.seed(42)"
   ]
  },
  {
   "cell_type": "code",
   "execution_count": null,
   "id": "1115d460",
   "metadata": {},
   "outputs": [],
   "source": [
    "solar_years = range(2012,2018)\n",
    "load_years = range(2012,2018)"
   ]
  },
  {
   "cell_type": "markdown",
   "id": "c2849e93",
   "metadata": {},
   "source": [
    "#### Designing using our judgement"
   ]
  },
  {
   "cell_type": "code",
   "execution_count": 4,
   "id": "99442086",
   "metadata": {},
   "outputs": [],
   "source": [
    "# define design options\n",
    "design_options = [\n",
    "    [500,400],\n",
    "    [500,600],\n",
    "    [600,600],\n",
    "    [750,600],\n",
    "    [750,800],\n",
    "]"
   ]
  },
  {
   "cell_type": "markdown",
   "id": "7e2e1ed2",
   "metadata": {},
   "source": [
    "Evaluate cost of each design option using the building energy system model"
   ]
  },
  {
   "cell_type": "code",
   "execution_count": 5,
   "id": "e41d0730",
   "metadata": {},
   "outputs": [
    {
     "data": {
      "application/vnd.jupyter.widget-view+json": {
       "model_id": "d807587a4b58440d9af15b4f8ba4a199",
       "version_major": 2,
       "version_minor": 0
      },
      "text/plain": [
       "Assessing designs:   0%|          | 0/5 [00:00<?, ?it/s]"
      ]
     },
     "metadata": {},
     "output_type": "display_data"
    }
   ],
   "source": [
    "det_results = [run_model(*design) for design in tqdm(design_options, desc='Assessing designs')]"
   ]
  },
  {
   "cell_type": "code",
   "execution_count": 6,
   "id": "3ab09a78",
   "metadata": {},
   "outputs": [
    {
     "name": "stdout",
     "output_type": "stream",
     "text": [
      "[65.5, 79.5, 87.0, 98.2, 112.2]\n",
      "[100.6, 91.4, 76.1, 54.1, 46.3]\n",
      "[166.1, 170.9, 163.1, 152.3, 158.6]\n"
     ]
    }
   ],
   "source": [
    "print([round(r['capex']/1e3,1) for r in det_results])\n",
    "print([round(r['opex']/1e3,1) for r in det_results])\n",
    "print([round(r['total']/1e3,1) for r in det_results])"
   ]
  },
  {
   "cell_type": "code",
   "execution_count": 7,
   "id": "bd503a93",
   "metadata": {},
   "outputs": [
    {
     "name": "stdout",
     "output_type": "stream",
     "text": [
      "Parameter         Unit      Value\n",
      "----------------  ------  -------\n",
      "Solar capacity    kWp       750\n",
      "Battery capacity  kWh       600\n",
      "Total cost        £k/yr     152.3\n",
      "CAPEX             £k/yr      98.2\n",
      "OPEX              £k/yr      54.1\n"
     ]
    }
   ],
   "source": [
    "# find the best design, i.e. the one with the lowest total cost\n",
    "best_det_design = det_results[np.argmin([r['total'] for r in det_results])]\n",
    "print(fmt_design_results(best_det_design))"
   ]
  },
  {
   "cell_type": "code",
   "execution_count": 8,
   "id": "82536846",
   "metadata": {},
   "outputs": [
    {
     "name": "stdout",
     "output_type": "stream",
     "text": [
      "Parameter         Unit      Value\n",
      "----------------  ------  -------\n",
      "Solar capacity    kWp         0\n",
      "Battery capacity  kWh         0\n",
      "Total cost        £k/yr     219.2\n",
      "CAPEX             £k/yr       0\n",
      "OPEX              £k/yr     219.2\n"
     ]
    }
   ],
   "source": [
    "# find cost of system without solar panels and batteries\n",
    "nosystem_results = run_model(0, 0)\n",
    "print(fmt_design_results(nosystem_results))"
   ]
  },
  {
   "cell_type": "code",
   "execution_count": 9,
   "id": "83ac3e08",
   "metadata": {},
   "outputs": [
    {
     "name": "stdout",
     "output_type": "stream",
     "text": [
      "Using solar-battery system reduces cost of supplying building load by £66.8k/yr (30.5)%\n"
     ]
    }
   ],
   "source": [
    "print(\"Using solar-battery system reduces cost of supplying building load by \"\\\n",
    "      f\"£{(nosystem_results['total'] - best_det_design['total'])/1e3:,.1f}k/yr \"\\\n",
    "      f\"({round((nosystem_results['total'] - best_det_design['total']) / nosystem_results['total'] * 100, 1)})%\")"
   ]
  },
  {
   "cell_type": "markdown",
   "id": "b00a9103",
   "metadata": {},
   "source": [
    "#### Designing using the Linear Program model"
   ]
  },
  {
   "cell_type": "code",
   "execution_count": 10,
   "id": "c3ac469b",
   "metadata": {},
   "outputs": [
    {
     "name": "stdout",
     "output_type": "stream",
     "text": [
      "Parameter         Unit      Value\n",
      "----------------  ------  -------\n",
      "Solar capacity    kWp       888.7\n",
      "Battery capacity  kWh       501\n",
      "Total cost        £k/yr     141\n",
      "CAPEX             £k/yr     101.7\n",
      "OPEX              £k/yr      39.3\n"
     ]
    }
   ],
   "source": [
    "LP_results = run_model(None,None)\n",
    "print(fmt_design_results(LP_results))"
   ]
  },
  {
   "cell_type": "code",
   "execution_count": 11,
   "id": "d648afee",
   "metadata": {},
   "outputs": [
    {
     "name": "stdout",
     "output_type": "stream",
     "text": [
      "Using the LP for design reduces costs by £11.3k/yr (7.4)%\n"
     ]
    }
   ],
   "source": [
    "design_improvement = best_det_design['total'] - LP_results['total']\n",
    "print(\"Using the LP for design reduces costs by \"\\\n",
    "      f\"£{(design_improvement)/1e3:,.1f}k/yr \"\\\n",
    "      f\"({round((design_improvement) / best_det_design['total'] * 100, 1)})%\")"
   ]
  },
  {
   "cell_type": "markdown",
   "id": "8a817206",
   "metadata": {},
   "source": [
    "#### Accounting for uncertainty during design"
   ]
  },
  {
   "cell_type": "markdown",
   "id": "564a380b",
   "metadata": {},
   "source": [
    "Initially let's only consider uncertainty in the solar generation. We'll model this uncertainty via the year of solar generation data used in the simulation. Let's assume that every year of data we have available in our dataset (2012 to 2017) is equally likely to occur in the future"
   ]
  },
  {
   "cell_type": "code",
   "execution_count": 12,
   "id": "0d80ac59",
   "metadata": {},
   "outputs": [
    {
     "data": {
      "application/vnd.jupyter.widget-view+json": {
       "model_id": "05ae56744eb1483698b8646f115c2086",
       "version_major": 2,
       "version_minor": 0
      },
      "text/plain": [
       "Assessing designs:   0%|          | 0/5 [00:00<?, ?it/s]"
      ]
     },
     "metadata": {},
     "output_type": "display_data"
    }
   ],
   "source": [
    "stoch_results = [run_model(*design, solar_year=solar_years) for design in tqdm(design_options, desc='Assessing designs')]\n",
    "# note, we can run our model with different scenarios (each year of solar data) using this nice compact notation\n",
    "# this is equivalent to doing the folloowing for each design,\n",
    "design_costs = []\n",
    "for syear in solar_years:\n",
    "    design_costs.append(run_model(\n",
    "        design_options[0][0],\n",
    "        design_options[0][1],\n",
    "        solar_year=[syear]\n",
    "        )['total'])\n",
    "avg_cost = np.mean(design_costs)"
   ]
  },
  {
   "cell_type": "code",
   "execution_count": 13,
   "id": "483da7c4",
   "metadata": {},
   "outputs": [
    {
     "name": "stdout",
     "output_type": "stream",
     "text": [
      "Parameter         Unit      Value\n",
      "----------------  ------  -------\n",
      "Solar capacity    kWp       750\n",
      "Battery capacity  kWh       600\n",
      "Total cost        £k/yr     151.4\n",
      "CAPEX             £k/yr      98.2\n",
      "OPEX              £k/yr      53.1\n"
     ]
    }
   ],
   "source": [
    "best_stoch_design = stoch_results[np.argmin([r['total'] for r in stoch_results])]\n",
    "print(fmt_design_results(best_stoch_design))"
   ]
  },
  {
   "cell_type": "markdown",
   "id": "5fdd4a67",
   "metadata": {},
   "source": [
    "Using a Stochastic Program for design"
   ]
  },
  {
   "cell_type": "code",
   "execution_count": 14,
   "id": "e0d6f074",
   "metadata": {},
   "outputs": [
    {
     "name": "stdout",
     "output_type": "stream",
     "text": [
      "Parameter         Unit      Value\n",
      "----------------  ------  -------\n",
      "Solar capacity    kWp       865.5\n",
      "Battery capacity  kWh       521.1\n",
      "Total cost        £k/yr     141.9\n",
      "CAPEX             £k/yr     101.4\n",
      "OPEX              £k/yr      40.6\n"
     ]
    }
   ],
   "source": [
    "SP_results = run_model(None,None,solar_year=list(range(2012,2018)))\n",
    "print(fmt_design_results(SP_results))"
   ]
  },
  {
   "cell_type": "code",
   "execution_count": 15,
   "id": "3148ff53",
   "metadata": {},
   "outputs": [
    {
     "name": "stdout",
     "output_type": "stream",
     "text": [
      "Using the SP for design reduces costs by £9.4k/yr (6.2)% on average\n"
     ]
    }
   ],
   "source": [
    "design_improvement = best_stoch_design['total'] - SP_results['total']\n",
    "print(\"Using the SP for design reduces costs by \"\\\n",
    "      f\"£{(design_improvement)/1e3:,.1f}k/yr \"\\\n",
    "      f\"({round((design_improvement) / best_stoch_design['total'] * 100, 1)})% \"\\\n",
    "        \"on average\")"
   ]
  },
  {
   "cell_type": "markdown",
   "id": "c1197066",
   "metadata": {},
   "source": [
    "The Value of Stochastic Solution (VSS)"
   ]
  },
  {
   "cell_type": "code",
   "execution_count": 16,
   "id": "9ae04abd",
   "metadata": {},
   "outputs": [
    {
     "name": "stderr",
     "output_type": "stream",
     "text": [
      "Optimization potentially failed: \n",
      "Status: warning\n",
      "Termination condition: infeasible_or_unbounded\n",
      "Solution: 0 primals, 0 duals\n",
      "Objective: nan\n",
      "Solver model: available\n",
      "Solver message: 4\n",
      "\n"
     ]
    },
    {
     "name": "stdout",
     "output_type": "stream",
     "text": [
      "Encountered error: Underlying model not optimized.\n"
     ]
    }
   ],
   "source": [
    "try:\n",
    "    run_model(LP_results['solar_capacity'],LP_results['battery_capacity'],solar_year=[2015])\n",
    "except Exception as e:\n",
    "    print(f\"Encountered error: {e}\")"
   ]
  },
  {
   "cell_type": "markdown",
   "id": "a163b333",
   "metadata": {},
   "source": [
    "Hmmm, the deterministic LP leads to an infeasible design! This is clearly an issue. It's happening because the solar capacity is too high and causes the grid connection capacity to be exceeded in years with high solar generation\n",
    "\n",
    "Let's tweak the design a little bit so it's valid (feasible), and see how close it is cost-wise to the SP solution"
   ]
  },
  {
   "cell_type": "code",
   "execution_count": 17,
   "id": "01de03e4",
   "metadata": {},
   "outputs": [
    {
     "name": "stdout",
     "output_type": "stream",
     "text": [
      "Value of stochastic solution (VSS): £0.9k/yr (0.63)%\n"
     ]
    }
   ],
   "source": [
    "LP_avg_cost = run_model(\n",
    "    LP_results['solar_capacity']*0.95,\n",
    "    LP_results['battery_capacity'],\n",
    "    solar_year=solar_years\n",
    "    )['total']\n",
    "\n",
    "vss = (LP_avg_cost - SP_results['total'])\n",
    "print(f\"Value of stochastic solution (VSS): £{round((vss)/1e3,2)}k/yr \"\\\n",
    "      f\"({round((vss)/SP_results['total']*100,2)})%\")"
   ]
  },
  {
   "cell_type": "markdown",
   "id": "8471f681",
   "metadata": {},
   "source": [
    "Now let's repeat the Stochastic optimisation but considering lots of uncertainties, as it doesn't increase the computational cost"
   ]
  },
  {
   "cell_type": "code",
   "execution_count": 18,
   "id": "fe92c74b",
   "metadata": {},
   "outputs": [],
   "source": [
    "nsamples = 25\n",
    "scenarios = {\n",
    "    'solar_year': random.choice(solar_years, nsamples),\n",
    "    'load_year': random.choice(load_years, nsamples),\n",
    "    'mean_load': stats.truncnorm.rvs(-2, 2, loc=100, scale=10, size=nsamples),\n",
    "    'battery_efficiency': stats.truncnorm.rvs(-2, 2, loc=0.95, scale=0.05, size=nsamples),\n",
    "    'battery_cost': stats.truncnorm.rvs(-2, 2, loc=70, scale=5, size=nsamples),\n",
    "}"
   ]
  },
  {
   "cell_type": "code",
   "execution_count": 19,
   "id": "7d4f6924",
   "metadata": {},
   "outputs": [
    {
     "data": {
      "application/vnd.jupyter.widget-view+json": {
       "model_id": "4ab2bd84fa8f48ffb674229db4f2247a",
       "version_major": 2,
       "version_minor": 0
      },
      "text/plain": [
       "Assessing designs:   0%|          | 0/5 [00:00<?, ?it/s]"
      ]
     },
     "metadata": {},
     "output_type": "display_data"
    }
   ],
   "source": [
    "stoch2_results = [run_model(*design, **scenarios) for design in tqdm(design_options, desc='Assessing designs')]"
   ]
  },
  {
   "cell_type": "code",
   "execution_count": 20,
   "id": "4ac96a38",
   "metadata": {},
   "outputs": [
    {
     "name": "stdout",
     "output_type": "stream",
     "text": [
      "[65.6, 79.6, 87.1, 98.4, 112.4]\n",
      "[93.6, 83.2, 67.9, 45.9, 37.0]\n",
      "[159.2, 162.8, 155.0, 144.3, 149.3]\n"
     ]
    }
   ],
   "source": [
    "print([round(r['capex']/1e3,1) for r in stoch2_results])\n",
    "print([round(r['opex']/1e3,1) for r in stoch2_results])\n",
    "print([round(r['total']/1e3,1) for r in stoch2_results])"
   ]
  },
  {
   "cell_type": "code",
   "execution_count": 21,
   "id": "847aff64",
   "metadata": {},
   "outputs": [
    {
     "name": "stdout",
     "output_type": "stream",
     "text": [
      "Parameter         Unit      Value\n",
      "----------------  ------  -------\n",
      "Solar capacity    kWp       750\n",
      "Battery capacity  kWh       600\n",
      "Total cost        £k/yr     144.3\n",
      "CAPEX             £k/yr      98.4\n",
      "OPEX              £k/yr      45.9\n"
     ]
    }
   ],
   "source": [
    "best_stoch2_design = stoch2_results[np.argmin([r['total'] for r in stoch2_results])]\n",
    "print(fmt_design_results(best_stoch2_design))"
   ]
  },
  {
   "cell_type": "code",
   "execution_count": 22,
   "id": "dc7ec08f",
   "metadata": {},
   "outputs": [],
   "source": [
    "SP_results2 = run_model(\n",
    "    solar_capacity=None,\n",
    "    battery_capacity=None,\n",
    "    solar_year=scenarios['solar_year'],\n",
    "    load_year=scenarios['load_year'],\n",
    "    mean_load=scenarios['mean_load'],\n",
    "    battery_efficiency=scenarios['battery_efficiency'],\n",
    "    battery_cost=scenarios['battery_cost']\n",
    ")"
   ]
  },
  {
   "cell_type": "code",
   "execution_count": 23,
   "id": "66521451",
   "metadata": {},
   "outputs": [
    {
     "name": "stdout",
     "output_type": "stream",
     "text": [
      "Parameter         Unit      Value\n",
      "----------------  ------  -------\n",
      "Solar capacity    kWp       791.9\n",
      "Battery capacity  kWh       457.2\n",
      "Total cost        £k/yr     139.1\n",
      "CAPEX             £k/yr      91.5\n",
      "OPEX              £k/yr      47.6\n"
     ]
    }
   ],
   "source": [
    "print(fmt_design_results(SP_results2))"
   ]
  },
  {
   "cell_type": "code",
   "execution_count": 24,
   "id": "bd734e6e",
   "metadata": {},
   "outputs": [
    {
     "name": "stdout",
     "output_type": "stream",
     "text": [
      "Using the SP for design reduces costs by £5.2k/yr (3.6)% on average\n"
     ]
    }
   ],
   "source": [
    "design_improvement = best_stoch2_design['total'] - SP_results2['total']\n",
    "print(\"Using the SP for design reduces costs by \"\\\n",
    "      f\"£{(design_improvement)/1e3:,.1f}k/yr \"\\\n",
    "      f\"({round((design_improvement) / best_stoch2_design['total'] * 100, 1)})% \"\\\n",
    "        \"on average\")"
   ]
  },
  {
   "cell_type": "code",
   "execution_count": 25,
   "id": "246ea07f",
   "metadata": {},
   "outputs": [
    {
     "name": "stdout",
     "output_type": "stream",
     "text": [
      "Value of stochastic solution (VSS): £0.9k/yr (0.65)%\n"
     ]
    }
   ],
   "source": [
    "# again, the LP solution is infeasible, so let's tweak it a bit\n",
    "LP_avg_cost2 = run_model(\n",
    "    LP_results['solar_capacity']*0.9,\n",
    "    LP_results['battery_capacity'],\n",
    "    **scenarios\n",
    "    )['total']\n",
    "\n",
    "vss2 = (LP_avg_cost2 - SP_results2['total'])\n",
    "print(f\"Value of stochastic solution (VSS): £{round((vss)/1e3,2)}k/yr \"\\\n",
    "      f\"({round((vss)/SP_results2['total']*100,2)})%\")"
   ]
  },
  {
   "cell_type": "code",
   "execution_count": null,
   "id": "672bcdcd",
   "metadata": {},
   "outputs": [],
   "source": []
  }
 ],
 "metadata": {
  "kernelspec": {
   "display_name": "VOItute",
   "language": "python",
   "name": "python3"
  },
  "language_info": {
   "codemirror_mode": {
    "name": "ipython",
    "version": 3
   },
   "file_extension": ".py",
   "mimetype": "text/x-python",
   "name": "python",
   "nbconvert_exporter": "python",
   "pygments_lexer": "ipython3",
   "version": "3.10.17"
  }
 },
 "nbformat": 4,
 "nbformat_minor": 5
}
