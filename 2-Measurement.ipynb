{
 "cells": [
  {
   "cell_type": "markdown",
   "id": "5b466e28",
   "metadata": {},
   "source": [
    "# Probabilistic models of measurement"
   ]
  },
  {
   "cell_type": "markdown",
   "id": "238d4f83",
   "metadata": {},
   "source": []
  }
 ],
 "metadata": {
  "language_info": {
   "name": "python"
  }
 },
 "nbformat": 4,
 "nbformat_minor": 5
}
