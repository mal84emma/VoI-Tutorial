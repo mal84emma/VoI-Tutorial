{
 "cells": [
  {
   "cell_type": "markdown",
   "id": "020c9edf",
   "metadata": {},
   "source": [
    "# Computing the Value of Information for supporting system design"
   ]
  },
  {
   "cell_type": "markdown",
   "id": "f6c29515",
   "metadata": {},
   "source": [
    "Probably investigate reducing uncertainty in mean load as that is nice and simple - first perfect information, then imperfect information"
   ]
  },
  {
   "cell_type": "code",
   "execution_count": null,
   "id": "0a8843ed",
   "metadata": {},
   "outputs": [],
   "source": [
    "from tqdm.auto import tqdm\n",
    "import numpy as np\n",
    "from numpy import random\n",
    "from scipy import stats\n",
    "\n",
    "from models import sample_posterior\n",
    "from models import run_model\n",
    "from functools import partial\n",
    "from utils import get_Gurobi_WLS_env, fmt_design_results\n",
    "\n",
    "import matplotlib.pyplot as plt\n",
    "import seaborn as sns"
   ]
  },
  {
   "cell_type": "code",
   "execution_count": 3,
   "id": "4d9f6e0a",
   "metadata": {},
   "outputs": [],
   "source": [
    "env = get_Gurobi_WLS_env(silence=True)\n",
    "run_model = partial(run_model, env=env)"
   ]
  },
  {
   "cell_type": "code",
   "execution_count": 4,
   "id": "250726d1",
   "metadata": {},
   "outputs": [],
   "source": [
    "solar_years = range(2012,2018)\n",
    "load_years = range(2012,2018)\n",
    "\n",
    "load_mean = 100\n",
    "load_std = 10\n",
    "reduction_factor = 0.33"
   ]
  },
  {
   "cell_type": "code",
   "execution_count": 5,
   "id": "fdbe5aae",
   "metadata": {},
   "outputs": [],
   "source": [
    "def sample_load_prior(nsamples):\n",
    "    thetas = stats.truncnorm.rvs(-2, 2, loc=load_mean, scale=load_std, size=nsamples)\n",
    "    zs = stats.norm.rvs(loc=thetas, scale=load_std*reduction_factor)\n",
    "    return thetas, zs\n",
    "\n",
    "def build_scenarios(load_samples):\n",
    "\n",
    "    n = len(load_samples)\n",
    "\n",
    "    scenarios = {\n",
    "        'solar_year': random.choice(solar_years, n),\n",
    "        'load_year': random.choice(load_years, n),\n",
    "        'mean_load': load_samples,\n",
    "        'battery_efficiency': stats.truncnorm.rvs(-2, 2, loc=0.9, scale=0.05, size=n)\n",
    "    }\n",
    "\n",
    "    return scenarios"
   ]
  },
  {
   "cell_type": "markdown",
   "id": "755d0488",
   "metadata": {},
   "source": [
    "Prior"
   ]
  },
  {
   "cell_type": "code",
   "execution_count": 11,
   "id": "4b4b2315",
   "metadata": {},
   "outputs": [
    {
     "name": "stdout",
     "output_type": "stream",
     "text": [
      "[111.77272993  96.58825587  84.34983037 103.85380366 108.39588375\n",
      "  95.48586356 110.30692539  95.46281804  97.447831   110.8470759 ]\n",
      "[114.01968505  93.9340661   83.99433892 103.31605844 107.41866854\n",
      "  95.67889485 109.44720922  93.51540003 101.77913538 107.81268629]\n"
     ]
    }
   ],
   "source": [
    "tsamples = 10\n",
    "thetas, zs = sample_load_prior(tsamples)\n",
    "print(thetas)\n",
    "print(zs)"
   ]
  },
  {
   "cell_type": "code",
   "execution_count": 6,
   "id": "fbcfcbc9",
   "metadata": {},
   "outputs": [
    {
     "name": "stdout",
     "output_type": "stream",
     "text": [
      "Parameter         Unit      Value\n",
      "----------------  ------  -------\n",
      "Solar capacity    kWp       849.1\n",
      "Battery capacity  kWh       430.4\n",
      "Total cost        £k/yr     168.8\n",
      "CAPEX             £k/yr     106.4\n",
      "OPEX              £k/yr      62.3\n"
     ]
    }
   ],
   "source": [
    "scenarios = build_scenarios(thetas)\n",
    "\n",
    "prior_results = run_model(\n",
    "    solar_capacity=None,\n",
    "    battery_capacity=None,\n",
    "    **scenarios\n",
    ")\n",
    "\n",
    "print(fmt_design_results(prior_results))"
   ]
  },
  {
   "cell_type": "markdown",
   "id": "4805095f",
   "metadata": {},
   "source": [
    "Could do VoI with discrete design options (i.e. not On-Policy VoI), but is it that informative? Is it worth it?"
   ]
  },
  {
   "cell_type": "code",
   "execution_count": 1,
   "id": "bea27471",
   "metadata": {},
   "outputs": [
    {
     "data": {
      "text/plain": [
       "Ellipsis"
      ]
     },
     "execution_count": 1,
     "metadata": {},
     "output_type": "execute_result"
    }
   ],
   "source": [
    "..."
   ]
  },
  {
   "cell_type": "markdown",
   "id": "0d844061",
   "metadata": {},
   "source": [
    "Perfect information - ToDo"
   ]
  },
  {
   "cell_type": "code",
   "execution_count": 7,
   "id": "f011c8cf",
   "metadata": {},
   "outputs": [
    {
     "data": {
      "text/plain": [
       "Ellipsis"
      ]
     },
     "execution_count": 7,
     "metadata": {},
     "output_type": "execute_result"
    }
   ],
   "source": [
    "..."
   ]
  },
  {
   "cell_type": "markdown",
   "id": "b3f333a1",
   "metadata": {},
   "source": [
    "*Should I take the other uncertainties out for the initial calcs to make the EVPI computations simpler? I.e. not need an expectation per z (actual perfect information, not partial perfect information). Then I could add them back in for the EVII calcs*"
   ]
  },
  {
   "cell_type": "markdown",
   "id": "7ab11a18",
   "metadata": {},
   "source": [
    "Imperfect information"
   ]
  },
  {
   "cell_type": "code",
   "execution_count": 16,
   "id": "2231eea9",
   "metadata": {},
   "outputs": [
    {
     "name": "stdout",
     "output_type": "stream",
     "text": [
      "[110.03  114.066 111.66  113.999 112.931 111.128 112.721 114.512 111.207\n",
      " 113.96 ]\n"
     ]
    }
   ],
   "source": [
    "vsamples = 10\n",
    "samples = sample_posterior(z=zs[0], nsamples=vsamples, reduction_factor=reduction_factor)\n",
    "print(samples)"
   ]
  },
  {
   "cell_type": "code",
   "execution_count": 26,
   "id": "7a81773f",
   "metadata": {},
   "outputs": [
    {
     "data": {
      "text/plain": [
       "Text(0, 0.5, '')"
      ]
     },
     "execution_count": 26,
     "metadata": {},
     "output_type": "execute_result"
    },
    {
     "data": {
      "image/png": "[encoded data removed]",
      "text/plain": [
       "<Figure size 640x480 with 2 Axes>"
      ]
     },
     "metadata": {},
     "output_type": "display_data"
    }
   ],
   "source": [
    "fig, ax = plt.subplots()\n",
    "\n",
    "sns.kdeplot(thetas,label='prior',color='k',lw=2)\n",
    "\n",
    "ymax = ax.get_ylim()[1]*1.5\n",
    "plt.vlines(zs[0],0,ymax,label='Measurement',color='k', alpha=0.7, ls='--', lw=2)\n",
    "\n",
    "ax2 = ax.twinx()\n",
    "sns.kdeplot(\n",
    "    samples,\n",
    "    #cut=0,\n",
    "    label='posterior',\n",
    "    ax=ax2, c='k', alpha=0.5, lw=2\n",
    ")\n",
    "\n",
    "ax.set_ylim(0,ymax)\n",
    "ax.get_yaxis().set_ticks([])\n",
    "ax.yaxis.set_label_text('Scaled Density')\n",
    "ax2.get_yaxis().set_ticks([])\n",
    "ax2.yaxis.set_label_text('')"
   ]
  },
  {
   "cell_type": "code",
   "execution_count": 10,
   "id": "680ba929",
   "metadata": {},
   "outputs": [
    {
     "name": "stderr",
     "output_type": "stream",
     "text": [
      "100%|██████████| 10/10 [01:24<00:00,  8.44s/it]\n"
     ]
    }
   ],
   "source": [
    "results = []\n",
    "\n",
    "for theta,z in tqdm(zip(thetas, zs), total=tsamples):\n",
    "\n",
    "    varthetas = sample_posterior(z=z, nsamples=vsamples, reduction_factor=reduction_factor)\n",
    "\n",
    "    scenarios = build_scenarios(varthetas)\n",
    "\n",
    "    post_results = run_model(\n",
    "        solar_capacity=None,\n",
    "        battery_capacity=None,\n",
    "        **scenarios\n",
    "    )\n",
    "\n",
    "    results.append(post_results)"
   ]
  },
  {
   "cell_type": "code",
   "execution_count": 11,
   "id": "4c6594e9",
   "metadata": {},
   "outputs": [
    {
     "name": "stdout",
     "output_type": "stream",
     "text": [
      "[175935.4109218436, 167495.09872357495, 174152.33637213838, 176887.14445522096, 177072.88280900038, 169626.52621284337, 170900.9289241613, 166212.70361441898, 153125.08803982736, 175004.54082281928]\n",
      "170641.26608958485\n"
     ]
    }
   ],
   "source": [
    "print(([r['total'] for r in results]))\n",
    "print(np.mean([r['total'] for r in results]))"
   ]
  },
  {
   "cell_type": "code",
   "execution_count": 12,
   "id": "ef3e88d7",
   "metadata": {},
   "outputs": [
    {
     "name": "stdout",
     "output_type": "stream",
     "text": [
      "Prior cost: 168773.4040373979\n",
      "Posterior cost: 170641.26608958485\n",
      "VoI: -1867.8620521869452\n",
      "VoI percent: -1.11%\n"
     ]
    }
   ],
   "source": [
    "prior_cost = prior_results['total']\n",
    "posterior_cost = np.mean([r['total'] for r in results])\n",
    "print(f'Prior cost: {prior_cost}')\n",
    "print(f'Posterior cost: {posterior_cost}')\n",
    "print(f'VoI: {prior_cost - posterior_cost}')\n",
    "voi_percent = (prior_cost - posterior_cost) / prior_cost * 100\n",
    "print(f'VoI percent: {voi_percent:.2f}%')"
   ]
  },
  {
   "cell_type": "code",
   "execution_count": null,
   "id": "da1d8df5",
   "metadata": {},
   "outputs": [],
   "source": []
  }
 ],
 "metadata": {
  "kernelspec": {
   "display_name": "VOItute",
   "language": "python",
   "name": "python3"
  },
  "language_info": {
   "codemirror_mode": {
    "name": "ipython",
    "version": 3
   },
   "file_extension": ".py",
   "mimetype": "text/x-python",
   "name": "python",
   "nbconvert_exporter": "python",
   "pygments_lexer": "ipython3",
   "version": "3.10.17"
  }
 },
 "nbformat": 4,
 "nbformat_minor": 5
}
