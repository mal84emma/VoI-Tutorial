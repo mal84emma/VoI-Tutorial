{
 "cells": [
  {
   "cell_type": "markdown",
   "id": "020c9edf",
   "metadata": {},
   "source": [
    "# Computing the Value of Information for supporting system design"
   ]
  },
  {
   "cell_type": "markdown",
   "id": "f6c29515",
   "metadata": {},
   "source": [
    "Probably investigate reducing uncertainty in mean load as that is nice and simple - first perfect information, then imperfect information"
   ]
  },
  {
   "cell_type": "code",
   "execution_count": null,
   "id": "0a8843ed",
   "metadata": {},
   "outputs": [],
   "source": [
    "from tqdm.auto import tqdm\n",
    "import numpy as np\n",
    "from numpy import random\n",
    "from scipy import stats\n",
    "\n",
    "from models import sample_posterior\n",
    "from models import run_model\n",
    "from functools import partial\n",
    "from utils import get_Gurobi_WLS_env, fmt_design_results\n",
    "\n",
    "import matplotlib.pyplot as plt\n",
    "import seaborn as sns"
   ]
  },
  {
   "cell_type": "code",
   "execution_count": null,
   "id": "4d9f6e0a",
   "metadata": {},
   "outputs": [],
   "source": [
    "env = get_Gurobi_WLS_env(silence=True)\n",
    "run_model = partial(run_model, env=env)\n",
    "random.seed(42)"
   ]
  },
  {
   "cell_type": "code",
   "execution_count": null,
   "id": "250726d1",
   "metadata": {},
   "outputs": [],
   "source": [
    "solar_years = range(2012,2018)\n",
    "load_years = range(2012,2018)\n",
    "\n",
    "load_mean = 100\n",
    "load_std = 10\n",
    "msr_error = 0.025"
   ]
  },
  {
   "cell_type": "code",
   "execution_count": 4,
   "id": "fdbe5aae",
   "metadata": {},
   "outputs": [],
   "source": [
    "def sample_load_prior(nsamples):\n",
    "    thetas = stats.truncnorm.rvs(-2, 2, loc=load_mean, scale=load_std, size=nsamples)\n",
    "    zs = stats.norm.rvs(loc=thetas, scale=thetas*msr_error)\n",
    "    return thetas, zs\n",
    "\n",
    "def build_scenarios(load_samples):\n",
    "\n",
    "    n = len(load_samples)\n",
    "\n",
    "    scenarios = {\n",
    "        'solar_year': random.choice(solar_years, n),\n",
    "        'load_year': random.choice(load_years, n),\n",
    "        'mean_load': load_samples,\n",
    "        'battery_efficiency': stats.truncnorm.rvs(-2, 2, loc=0.9, scale=0.05, size=n),\n",
    "        'battery_cost': stats.truncnorm.rvs(-2, 2, loc=70, scale=5, size=n),\n",
    "    }\n",
    "\n",
    "    return scenarios"
   ]
  },
  {
   "cell_type": "markdown",
   "id": "755d0488",
   "metadata": {},
   "source": [
    "Prior"
   ]
  },
  {
   "cell_type": "code",
   "execution_count": 5,
   "id": "4b4b2315",
   "metadata": {},
   "outputs": [
    {
     "name": "stdout",
     "output_type": "stream",
     "text": [
      "[118.178275   111.82480165  97.3176859  109.08717567  93.94049894\n",
      " 107.23527566  94.00726419  89.77749988 108.80969993 100.15796422]\n",
      "[119.9430033  112.88666389  86.6341773  107.67095085 100.98107113\n",
      " 108.65336215  90.89684086  90.16216506 103.57371518  91.42740271]\n"
     ]
    }
   ],
   "source": [
    "tsamples = 50\n",
    "thetas, zs = sample_load_prior(tsamples)\n",
    "print(thetas[:10])\n",
    "print(zs[:10])"
   ]
  },
  {
   "cell_type": "code",
   "execution_count": 6,
   "id": "fbcfcbc9",
   "metadata": {},
   "outputs": [
    {
     "name": "stdout",
     "output_type": "stream",
     "text": [
      "Parameter         Unit      Value\n",
      "----------------  ------  -------\n",
      "Solar capacity    kWp       789.2\n",
      "Battery capacity  kWh       349.9\n",
      "Total cost        £k/yr     144.8\n",
      "CAPEX             £k/yr      83.9\n",
      "OPEX              £k/yr      61\n"
     ]
    }
   ],
   "source": [
    "scenarios = build_scenarios(thetas)\n",
    "\n",
    "prior_results = run_model(\n",
    "    solar_capacity=None,\n",
    "    battery_capacity=None,\n",
    "    **scenarios\n",
    ")\n",
    "\n",
    "print(fmt_design_results(prior_results))"
   ]
  },
  {
   "cell_type": "markdown",
   "id": "4805095f",
   "metadata": {},
   "source": [
    "Could do VoI with discrete design options (i.e. not On-Policy VoI), but is it that informative? Is it worth it?"
   ]
  },
  {
   "cell_type": "code",
   "execution_count": 7,
   "id": "bea27471",
   "metadata": {},
   "outputs": [
    {
     "data": {
      "text/plain": [
       "Ellipsis"
      ]
     },
     "execution_count": 7,
     "metadata": {},
     "output_type": "execute_result"
    }
   ],
   "source": [
    "..."
   ]
  },
  {
   "cell_type": "markdown",
   "id": "0d844061",
   "metadata": {},
   "source": [
    "Perfect information - ToDo"
   ]
  },
  {
   "cell_type": "code",
   "execution_count": 8,
   "id": "f011c8cf",
   "metadata": {},
   "outputs": [
    {
     "data": {
      "application/vnd.jupyter.widget-view+json": {
       "model_id": "4ad7becb73054ee9a5bc1e3392d9b857",
       "version_major": 2,
       "version_minor": 0
      },
      "text/plain": [
       "Solving posterior problems:   0%|          | 0/50 [00:00<?, ?it/s]"
      ]
     },
     "metadata": {},
     "output_type": "display_data"
    }
   ],
   "source": [
    "results = []\n",
    "\n",
    "for theta in tqdm(thetas, desc='Solving posterior problems'):\n",
    "\n",
    "    scenario = build_scenarios([theta])\n",
    "\n",
    "    post_results = run_model(\n",
    "        solar_capacity=None,\n",
    "        battery_capacity=None,\n",
    "        **scenario\n",
    "    )\n",
    "\n",
    "    results.append(post_results)"
   ]
  },
  {
   "cell_type": "code",
   "execution_count": 9,
   "id": "17f1bde2",
   "metadata": {},
   "outputs": [
    {
     "name": "stdout",
     "output_type": "stream",
     "text": [
      "[172129.09283265498, 160463.62200688763, 137053.60348453547, 152038.36211753392, 125300.58086477843, 152507.8880963123, 126130.31611961438, 123050.38055807336, 155715.21115587707, 139985.1555571311, 160675.60614201537, 124005.09554841758, 138360.5273694502, 112824.0450084616, 134149.13248161698, 130329.14659577837, 155136.74621123602, 154530.35773938845, 127468.98918574362, 150099.92885490364, 136990.50074576563, 111403.23181848395, 104796.25607545266, 128620.16273168055, 146739.6985095526, 110383.94199189846, 120711.25093623031, 120697.08899700963, 153419.4307755623, 126078.37423654173, 148162.95427217928, 167928.36088882643, 158016.08974190007, 163409.47635365388, 146912.23706608266, 120036.39828799113, 147970.21823319112, 133982.57981672086, 159635.77401440468, 140937.32841943298, 150430.0646884095, 157465.50338637538, 135597.56347431734, 112831.32340378105, 155493.7954513287, 139926.0345650167, 116213.9903949461, 141851.91411034146, 133963.98125648987, 113351.67326869137]\n",
      "138718.21971685337\n"
     ]
    }
   ],
   "source": [
    "print(([r['total'] for r in results]))\n",
    "print(np.mean([r['total'] for r in results]))"
   ]
  },
  {
   "cell_type": "code",
   "execution_count": 10,
   "id": "75288567",
   "metadata": {},
   "outputs": [
    {
     "name": "stdout",
     "output_type": "stream",
     "text": [
      "Prior cost: 144824.4042286907\n",
      "Posterior cost: 138718.21971685337\n",
      "VoI: 6106.184511837317\n",
      "VoI percent: 4.22%\n"
     ]
    }
   ],
   "source": [
    "prior_cost = prior_results['total']\n",
    "preposterior_cost = np.mean([r['total'] for r in results])\n",
    "print(f'Prior cost: {prior_cost}')\n",
    "print(f'Posterior cost: {preposterior_cost}')\n",
    "print(f'VoI: {prior_cost - preposterior_cost}')\n",
    "voi_percent = (prior_cost - preposterior_cost) / prior_cost * 100\n",
    "print(f'VoI percent: {voi_percent:.2f}%')"
   ]
  },
  {
   "cell_type": "markdown",
   "id": "b3f333a1",
   "metadata": {},
   "source": [
    "*Should I take the other uncertainties out for the initial calcs to make the EVPI computations simpler? I.e. not need an expectation per z (actual perfect information, not partial perfect information). Then I could add them back in for the EVII calcs*"
   ]
  },
  {
   "cell_type": "markdown",
   "id": "7ab11a18",
   "metadata": {},
   "source": [
    "Imperfect information"
   ]
  },
  {
   "cell_type": "code",
   "execution_count": 18,
   "id": "2231eea9",
   "metadata": {},
   "outputs": [
    {
     "name": "stdout",
     "output_type": "stream",
     "text": [
      "114.99029560893355\n",
      "[104.761 116.506 117.724 109.275 109.156 113.596 111.91  116.569 106.785\n",
      " 109.264]\n"
     ]
    }
   ],
   "source": [
    "vsamples = 10\n",
    "z = zs[10]\n",
    "print(z)\n",
    "samples = sample_posterior(z=z, nsamples=vsamples, msr_error=msr_error)\n",
    "print(samples)"
   ]
  },
  {
   "cell_type": "code",
   "execution_count": 19,
   "id": "7a81773f",
   "metadata": {},
   "outputs": [
    {
     "data": {
      "text/plain": [
       "Text(0, 0.5, '')"
      ]
     },
     "execution_count": 19,
     "metadata": {},
     "output_type": "execute_result"
    },
    {
     "data": {
      "image/png": "[encoded data removed]",
      "text/plain": [
       "<Figure size 640x480 with 2 Axes>"
      ]
     },
     "metadata": {},
     "output_type": "display_data"
    }
   ],
   "source": [
    "fig, ax = plt.subplots()\n",
    "\n",
    "sns.kdeplot(thetas,label='prior',color='k',lw=2)\n",
    "\n",
    "ymax = ax.get_ylim()[1]*1.5\n",
    "plt.vlines(z,0,ymax,label='Measurement',color='k', alpha=0.7, ls='--', lw=2)\n",
    "\n",
    "ax2 = ax.twinx()\n",
    "sns.kdeplot(\n",
    "    samples,\n",
    "    #cut=0,\n",
    "    label='posterior',\n",
    "    ax=ax2, c='k', alpha=0.5, lw=2\n",
    ")\n",
    "\n",
    "ax.set_ylim(0,ymax)\n",
    "ax.get_yaxis().set_ticks([])\n",
    "ax.yaxis.set_label_text('Scaled Density')\n",
    "ax2.get_yaxis().set_ticks([])\n",
    "ax2.yaxis.set_label_text('')"
   ]
  },
  {
   "cell_type": "code",
   "execution_count": 13,
   "id": "680ba929",
   "metadata": {},
   "outputs": [
    {
     "data": {
      "application/vnd.jupyter.widget-view+json": {
       "model_id": "5383558494a142bb94b302958e1afdbe",
       "version_major": 2,
       "version_minor": 0
      },
      "text/plain": [
       "Solving posterior problems:   0%|          | 0/50 [00:00<?, ?it/s]"
      ]
     },
     "metadata": {},
     "output_type": "display_data"
    },
    {
     "name": "stderr",
     "output_type": "stream",
     "text": [
      "Optimization potentially failed: \n",
      "Status: aborted\n",
      "Termination condition: user_interrupt\n",
      "Solution: 0 primals, 0 duals\n",
      "Objective: nan\n",
      "Solver model: available\n",
      "Solver message: 11\n",
      "\n"
     ]
    },
    {
     "name": "stdout",
     "output_type": "stream",
     "text": [
      "\n",
      "Interrupt request received\n"
     ]
    },
    {
     "ename": "AttributeError",
     "evalue": "Underlying model not optimized.",
     "output_type": "error",
     "traceback": [
      "\u001b[0;31m---------------------------------------------------------------------------\u001b[0m",
      "\u001b[0;31mAttributeError\u001b[0m                            Traceback (most recent call last)",
      "Cell \u001b[0;32mIn[13], line 9\u001b[0m\n\u001b[1;32m      5\u001b[0m varthetas \u001b[38;5;241m=\u001b[39m sample_posterior(z\u001b[38;5;241m=\u001b[39mz, nsamples\u001b[38;5;241m=\u001b[39mvsamples, msr_error\u001b[38;5;241m=\u001b[39mmsr_error)\n\u001b[1;32m      7\u001b[0m scenarios \u001b[38;5;241m=\u001b[39m build_scenarios(varthetas)\n\u001b[0;32m----> 9\u001b[0m post_results \u001b[38;5;241m=\u001b[39m \u001b[43mrun_model\u001b[49m\u001b[43m(\u001b[49m\n\u001b[1;32m     10\u001b[0m \u001b[43m    \u001b[49m\u001b[43msolar_capacity\u001b[49m\u001b[38;5;241;43m=\u001b[39;49m\u001b[38;5;28;43;01mNone\u001b[39;49;00m\u001b[43m,\u001b[49m\n\u001b[1;32m     11\u001b[0m \u001b[43m    \u001b[49m\u001b[43mbattery_capacity\u001b[49m\u001b[38;5;241;43m=\u001b[39;49m\u001b[38;5;28;43;01mNone\u001b[39;49;00m\u001b[43m,\u001b[49m\n\u001b[1;32m     12\u001b[0m \u001b[43m    \u001b[49m\u001b[38;5;241;43m*\u001b[39;49m\u001b[38;5;241;43m*\u001b[39;49m\u001b[43mscenarios\u001b[49m\n\u001b[1;32m     13\u001b[0m \u001b[43m\u001b[49m\u001b[43m)\u001b[49m\n\u001b[1;32m     15\u001b[0m results\u001b[38;5;241m.\u001b[39mappend(post_results)\n",
      "File \u001b[0;32m~/Documents/Repositories/VoI-Tutorial/models/energy_model.py:220\u001b[0m, in \u001b[0;36mrun_model\u001b[0;34m(solar_capacity, battery_capacity, solar_year, load_year, mean_load, battery_efficiency, battery_cost, scenario_weightings, defaults_file, progress, env)\u001b[0m\n\u001b[1;32m    217\u001b[0m     scen_obj_contrs[m][\u001b[38;5;124m'\u001b[39m\u001b[38;5;124melec\u001b[39m\u001b[38;5;124m'\u001b[39m] \u001b[38;5;241m+\u001b[39m\u001b[38;5;241m=\u001b[39m (xr\u001b[38;5;241m.\u001b[39mDataArray(load_series[m], coords\u001b[38;5;241m=\u001b[39m[pd\u001b[38;5;241m.\u001b[39mRangeIndex(T,name\u001b[38;5;241m=\u001b[39m\u001b[38;5;124m'\u001b[39m\u001b[38;5;124mtime\u001b[39m\u001b[38;5;124m'\u001b[39m)]) \u001b[38;5;241m@\u001b[39m elec_prices) \u001b[38;5;241m*\u001b[39m defaults[\u001b[38;5;124m'\u001b[39m\u001b[38;5;124mstatic\u001b[39m\u001b[38;5;124m'\u001b[39m][\u001b[38;5;124m'\u001b[39m\u001b[38;5;124msell_price\u001b[39m\u001b[38;5;124m'\u001b[39m]\n\u001b[1;32m    218\u001b[0m     \u001b[38;5;66;03m# the trick is to think about the sum of the original cost term and this correction term and what the price looks like if grid_energy is positive or negative\u001b[39;00m\n\u001b[0;32m--> 220\u001b[0m capex \u001b[38;5;241m=\u001b[39m np\u001b[38;5;241m.\u001b[39mmean([\u001b[38;5;28mfloat\u001b[39m(c[\u001b[38;5;124m'\u001b[39m\u001b[38;5;124msolar\u001b[39m\u001b[38;5;124m'\u001b[39m]\u001b[38;5;241m.\u001b[39msolution\u001b[38;5;241m.\u001b[39mvalues \u001b[38;5;241m+\u001b[39m c[\u001b[38;5;124m'\u001b[39m\u001b[38;5;124mbattery\u001b[39m\u001b[38;5;124m'\u001b[39m]\u001b[38;5;241m.\u001b[39msolution\u001b[38;5;241m.\u001b[39mvalues) \u001b[38;5;28;01mfor\u001b[39;00m c \u001b[38;5;129;01min\u001b[39;00m scen_obj_contrs])\n\u001b[1;32m    221\u001b[0m opex \u001b[38;5;241m=\u001b[39m np\u001b[38;5;241m.\u001b[39mmean([c[\u001b[38;5;124m'\u001b[39m\u001b[38;5;124melec\u001b[39m\u001b[38;5;124m'\u001b[39m]\u001b[38;5;241m.\u001b[39msolution\u001b[38;5;241m.\u001b[39mvalues \u001b[38;5;28;01mfor\u001b[39;00m c \u001b[38;5;129;01min\u001b[39;00m scen_obj_contrs])\n\u001b[1;32m    223\u001b[0m results \u001b[38;5;241m=\u001b[39m {\n\u001b[1;32m    224\u001b[0m     \u001b[38;5;124m'\u001b[39m\u001b[38;5;124msolar_capacity\u001b[39m\u001b[38;5;124m'\u001b[39m: \u001b[38;5;28mfloat\u001b[39m(solar_cap\u001b[38;5;241m.\u001b[39msolution\u001b[38;5;241m.\u001b[39mvalues),\n\u001b[1;32m    225\u001b[0m     \u001b[38;5;124m'\u001b[39m\u001b[38;5;124mbattery_capacity\u001b[39m\u001b[38;5;124m'\u001b[39m: \u001b[38;5;28mfloat\u001b[39m(battery_cap\u001b[38;5;241m.\u001b[39msolution\u001b[38;5;241m.\u001b[39mvalues),\n\u001b[0;32m   (...)\u001b[0m\n\u001b[1;32m    231\u001b[0m     } \u001b[38;5;28;01mfor\u001b[39;00m m \u001b[38;5;129;01min\u001b[39;00m \u001b[38;5;28mrange\u001b[39m(M)],\n\u001b[1;32m    232\u001b[0m }\n",
      "File \u001b[0;32m~/Documents/Repositories/VoI-Tutorial/models/energy_model.py:220\u001b[0m, in \u001b[0;36m<listcomp>\u001b[0;34m(.0)\u001b[0m\n\u001b[1;32m    217\u001b[0m     scen_obj_contrs[m][\u001b[38;5;124m'\u001b[39m\u001b[38;5;124melec\u001b[39m\u001b[38;5;124m'\u001b[39m] \u001b[38;5;241m+\u001b[39m\u001b[38;5;241m=\u001b[39m (xr\u001b[38;5;241m.\u001b[39mDataArray(load_series[m], coords\u001b[38;5;241m=\u001b[39m[pd\u001b[38;5;241m.\u001b[39mRangeIndex(T,name\u001b[38;5;241m=\u001b[39m\u001b[38;5;124m'\u001b[39m\u001b[38;5;124mtime\u001b[39m\u001b[38;5;124m'\u001b[39m)]) \u001b[38;5;241m@\u001b[39m elec_prices) \u001b[38;5;241m*\u001b[39m defaults[\u001b[38;5;124m'\u001b[39m\u001b[38;5;124mstatic\u001b[39m\u001b[38;5;124m'\u001b[39m][\u001b[38;5;124m'\u001b[39m\u001b[38;5;124msell_price\u001b[39m\u001b[38;5;124m'\u001b[39m]\n\u001b[1;32m    218\u001b[0m     \u001b[38;5;66;03m# the trick is to think about the sum of the original cost term and this correction term and what the price looks like if grid_energy is positive or negative\u001b[39;00m\n\u001b[0;32m--> 220\u001b[0m capex \u001b[38;5;241m=\u001b[39m np\u001b[38;5;241m.\u001b[39mmean([\u001b[38;5;28mfloat\u001b[39m(\u001b[43mc\u001b[49m\u001b[43m[\u001b[49m\u001b[38;5;124;43m'\u001b[39;49m\u001b[38;5;124;43msolar\u001b[39;49m\u001b[38;5;124;43m'\u001b[39;49m\u001b[43m]\u001b[49m\u001b[38;5;241;43m.\u001b[39;49m\u001b[43msolution\u001b[49m\u001b[38;5;241m.\u001b[39mvalues \u001b[38;5;241m+\u001b[39m c[\u001b[38;5;124m'\u001b[39m\u001b[38;5;124mbattery\u001b[39m\u001b[38;5;124m'\u001b[39m]\u001b[38;5;241m.\u001b[39msolution\u001b[38;5;241m.\u001b[39mvalues) \u001b[38;5;28;01mfor\u001b[39;00m c \u001b[38;5;129;01min\u001b[39;00m scen_obj_contrs])\n\u001b[1;32m    221\u001b[0m opex \u001b[38;5;241m=\u001b[39m np\u001b[38;5;241m.\u001b[39mmean([c[\u001b[38;5;124m'\u001b[39m\u001b[38;5;124melec\u001b[39m\u001b[38;5;124m'\u001b[39m]\u001b[38;5;241m.\u001b[39msolution\u001b[38;5;241m.\u001b[39mvalues \u001b[38;5;28;01mfor\u001b[39;00m c \u001b[38;5;129;01min\u001b[39;00m scen_obj_contrs])\n\u001b[1;32m    223\u001b[0m results \u001b[38;5;241m=\u001b[39m {\n\u001b[1;32m    224\u001b[0m     \u001b[38;5;124m'\u001b[39m\u001b[38;5;124msolar_capacity\u001b[39m\u001b[38;5;124m'\u001b[39m: \u001b[38;5;28mfloat\u001b[39m(solar_cap\u001b[38;5;241m.\u001b[39msolution\u001b[38;5;241m.\u001b[39mvalues),\n\u001b[1;32m    225\u001b[0m     \u001b[38;5;124m'\u001b[39m\u001b[38;5;124mbattery_capacity\u001b[39m\u001b[38;5;124m'\u001b[39m: \u001b[38;5;28mfloat\u001b[39m(battery_cap\u001b[38;5;241m.\u001b[39msolution\u001b[38;5;241m.\u001b[39mvalues),\n\u001b[0;32m   (...)\u001b[0m\n\u001b[1;32m    231\u001b[0m     } \u001b[38;5;28;01mfor\u001b[39;00m m \u001b[38;5;129;01min\u001b[39;00m \u001b[38;5;28mrange\u001b[39m(M)],\n\u001b[1;32m    232\u001b[0m }\n",
      "File \u001b[0;32m~/opt/miniconda3/envs/VOItute/lib/python3.10/site-packages/linopy/expressions.py:833\u001b[0m, in \u001b[0;36mLinearExpression.solution\u001b[0;34m(self)\u001b[0m\n\u001b[1;32m    825\u001b[0m \u001b[38;5;129m@property\u001b[39m\n\u001b[1;32m    826\u001b[0m \u001b[38;5;28;01mdef\u001b[39;00m\u001b[38;5;250m \u001b[39m\u001b[38;5;21msolution\u001b[39m(\u001b[38;5;28mself\u001b[39m) \u001b[38;5;241m-\u001b[39m\u001b[38;5;241m>\u001b[39m DataArray:\n\u001b[1;32m    827\u001b[0m \u001b[38;5;250m    \u001b[39m\u001b[38;5;124;03m\"\"\"\u001b[39;00m\n\u001b[1;32m    828\u001b[0m \u001b[38;5;124;03m    Get the optimal values of the expression.\u001b[39;00m\n\u001b[1;32m    829\u001b[0m \n\u001b[1;32m    830\u001b[0m \u001b[38;5;124;03m    The function raises an error in case no model is set as a\u001b[39;00m\n\u001b[1;32m    831\u001b[0m \u001b[38;5;124;03m    reference or the model is not optimized.\u001b[39;00m\n\u001b[1;32m    832\u001b[0m \u001b[38;5;124;03m    \"\"\"\u001b[39;00m\n\u001b[0;32m--> 833\u001b[0m     vals \u001b[38;5;241m=\u001b[39m \u001b[38;5;28;43mself\u001b[39;49m\u001b[38;5;241;43m.\u001b[39;49m\u001b[43m_map_solution\u001b[49m\u001b[43m(\u001b[49m\u001b[43m)\u001b[49m\n\u001b[1;32m    834\u001b[0m     sol \u001b[38;5;241m=\u001b[39m (\u001b[38;5;28mself\u001b[39m\u001b[38;5;241m.\u001b[39mcoeffs \u001b[38;5;241m*\u001b[39m vals)\u001b[38;5;241m.\u001b[39msum(TERM_DIM) \u001b[38;5;241m+\u001b[39m \u001b[38;5;28mself\u001b[39m\u001b[38;5;241m.\u001b[39mconst\n\u001b[1;32m    835\u001b[0m     \u001b[38;5;28;01mreturn\u001b[39;00m sol\u001b[38;5;241m.\u001b[39mrename(\u001b[38;5;124m\"\u001b[39m\u001b[38;5;124msolution\u001b[39m\u001b[38;5;124m\"\u001b[39m)\n",
      "File \u001b[0;32m~/opt/miniconda3/envs/VOItute/lib/python3.10/site-packages/linopy/common.py:936\u001b[0m, in \u001b[0;36mhas_optimized_model.<locals>.wrapper\u001b[0;34m(self, *args, **kwargs)\u001b[0m\n\u001b[1;32m    934\u001b[0m     \u001b[38;5;28;01mraise\u001b[39;00m \u001b[38;5;167;01mAttributeError\u001b[39;00m(\u001b[38;5;124m\"\u001b[39m\u001b[38;5;124mNo reference model set.\u001b[39m\u001b[38;5;124m\"\u001b[39m)\n\u001b[1;32m    935\u001b[0m \u001b[38;5;28;01mif\u001b[39;00m \u001b[38;5;28mself\u001b[39m\u001b[38;5;241m.\u001b[39mmodel\u001b[38;5;241m.\u001b[39mstatus \u001b[38;5;241m!=\u001b[39m \u001b[38;5;124m\"\u001b[39m\u001b[38;5;124mok\u001b[39m\u001b[38;5;124m\"\u001b[39m:\n\u001b[0;32m--> 936\u001b[0m     \u001b[38;5;28;01mraise\u001b[39;00m \u001b[38;5;167;01mAttributeError\u001b[39;00m(\u001b[38;5;124m\"\u001b[39m\u001b[38;5;124mUnderlying model not optimized.\u001b[39m\u001b[38;5;124m\"\u001b[39m)\n\u001b[1;32m    937\u001b[0m \u001b[38;5;28;01mreturn\u001b[39;00m func(\u001b[38;5;28mself\u001b[39m, \u001b[38;5;241m*\u001b[39margs, \u001b[38;5;241m*\u001b[39m\u001b[38;5;241m*\u001b[39mkwargs)\n",
      "\u001b[0;31mAttributeError\u001b[0m: Underlying model not optimized."
     ]
    }
   ],
   "source": [
    "results = []\n",
    "\n",
    "for theta,z in tqdm(zip(thetas, zs), total=tsamples, desc='Solving posterior problems'):\n",
    "\n",
    "    varthetas = sample_posterior(z=z, nsamples=vsamples, msr_error=msr_error)\n",
    "\n",
    "    scenarios = build_scenarios(varthetas)\n",
    "\n",
    "    post_results = run_model(\n",
    "        solar_capacity=None,\n",
    "        battery_capacity=None,\n",
    "        **scenarios\n",
    "    )\n",
    "\n",
    "    results.append(post_results)"
   ]
  },
  {
   "cell_type": "code",
   "execution_count": null,
   "id": "4c6594e9",
   "metadata": {},
   "outputs": [],
   "source": [
    "print(([r['total'] for r in results]))\n",
    "print(np.mean([r['total'] for r in results]))"
   ]
  },
  {
   "cell_type": "code",
   "execution_count": null,
   "id": "ef3e88d7",
   "metadata": {},
   "outputs": [],
   "source": [
    "prior_cost = prior_results['total']\n",
    "preposterior_cost = np.mean([r['total'] for r in results])\n",
    "print(f'Prior cost: {prior_cost}')\n",
    "print(f'Posterior cost: {preposterior_cost}')\n",
    "print(f'VoI: {prior_cost - preposterior_cost}')\n",
    "voi_percent = (prior_cost - preposterior_cost) / prior_cost * 100\n",
    "print(f'VoI percent: {voi_percent:.2f}%')"
   ]
  },
  {
   "cell_type": "code",
   "execution_count": null,
   "id": "da1d8df5",
   "metadata": {},
   "outputs": [],
   "source": []
  }
 ],
 "metadata": {
  "kernelspec": {
   "display_name": "VOItute",
   "language": "python",
   "name": "python3"
  },
  "language_info": {
   "codemirror_mode": {
    "name": "ipython",
    "version": 3
   },
   "file_extension": ".py",
   "mimetype": "text/x-python",
   "name": "python",
   "nbconvert_exporter": "python",
   "pygments_lexer": "ipython3",
   "version": "3.10.18"
  }
 },
 "nbformat": 4,
 "nbformat_minor": 5
}
