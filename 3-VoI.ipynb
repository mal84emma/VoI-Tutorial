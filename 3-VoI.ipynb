{
 "cells": [
  {
   "cell_type": "markdown",
   "id": "020c9edf",
   "metadata": {},
   "source": [
    "# Computing the Value of Information for supporting system design"
   ]
  },
  {
   "cell_type": "markdown",
   "id": "f6c29515",
   "metadata": {},
   "source": [
    "Probably investigate reducing uncertainty in mean load as that is nice and simple - first perfect information, then imperfect information"
   ]
  },
  {
   "cell_type": "code",
   "execution_count": 1,
   "id": "0a8843ed",
   "metadata": {},
   "outputs": [],
   "source": [
    "from tqdm.auto import tqdm\n",
    "import numpy as np\n",
    "from numpy import random\n",
    "from scipy import stats\n",
    "\n",
    "from models import sample_posterior\n",
    "from models import run_model\n",
    "from functools import partial\n",
    "from utils import get_Gurobi_WLS_env, fmt_design_results\n",
    "\n",
    "import matplotlib.pyplot as plt\n",
    "import seaborn as sns"
   ]
  },
  {
   "cell_type": "code",
   "execution_count": 2,
   "id": "4d9f6e0a",
   "metadata": {},
   "outputs": [],
   "source": [
    "env = get_Gurobi_WLS_env(silence=True)\n",
    "run_model = partial(run_model, env=env)"
   ]
  },
  {
   "cell_type": "code",
   "execution_count": 3,
   "id": "250726d1",
   "metadata": {},
   "outputs": [],
   "source": [
    "solar_years = range(2012,2018)\n",
    "load_years = range(2012,2018)\n",
    "\n",
    "load_mean = 100\n",
    "load_std = 10\n",
    "reduction_factor = 0.33"
   ]
  },
  {
   "cell_type": "code",
   "execution_count": 4,
   "id": "fdbe5aae",
   "metadata": {},
   "outputs": [],
   "source": [
    "def sample_load_prior(nsamples):\n",
    "    thetas = stats.truncnorm.rvs(-2, 2, loc=load_mean, scale=load_std, size=nsamples)\n",
    "    zs = stats.norm.rvs(loc=thetas, scale=load_std*reduction_factor)\n",
    "    return thetas, zs\n",
    "\n",
    "def build_scenarios(load_samples):\n",
    "\n",
    "    n = len(load_samples)\n",
    "\n",
    "    scenarios = {\n",
    "        'solar_year': random.choice(solar_years, n),\n",
    "        'load_year': random.choice(load_years, n),\n",
    "        'mean_load': load_samples,\n",
    "        'battery_efficiency': stats.truncnorm.rvs(-2, 2, loc=0.9, scale=0.05, size=n),\n",
    "        'battery_cost': stats.truncnorm.rvs(-2, 2, loc=70, scale=5, size=n),\n",
    "    }\n",
    "\n",
    "    return scenarios"
   ]
  },
  {
   "cell_type": "markdown",
   "id": "755d0488",
   "metadata": {},
   "source": [
    "Prior"
   ]
  },
  {
   "cell_type": "code",
   "execution_count": 5,
   "id": "4b4b2315",
   "metadata": {},
   "outputs": [
    {
     "name": "stdout",
     "output_type": "stream",
     "text": [
      "[ 93.19203407  90.98189076 109.97688822 114.85036905 109.42991496\n",
      "  87.31499814 116.46875663  97.44891815 104.29857949 101.87656963]\n",
      "[ 93.00891299  89.54346814 109.37377751 113.5651743  112.35039884\n",
      "  86.33649153 121.65287688 100.61344914 108.06853962  98.53343413]\n"
     ]
    }
   ],
   "source": [
    "tsamples = 50\n",
    "thetas, zs = sample_load_prior(tsamples)\n",
    "print(thetas[:10])\n",
    "print(zs[:10])"
   ]
  },
  {
   "cell_type": "code",
   "execution_count": 6,
   "id": "fbcfcbc9",
   "metadata": {},
   "outputs": [
    {
     "name": "stdout",
     "output_type": "stream",
     "text": [
      "Parameter         Unit      Value\n",
      "----------------  ------  -------\n",
      "Solar capacity    kWp       794.8\n",
      "Battery capacity  kWh       382.3\n",
      "Total cost        £k/yr     146.1\n",
      "CAPEX             £k/yr      87\n",
      "OPEX              £k/yr      59.1\n"
     ]
    }
   ],
   "source": [
    "scenarios = build_scenarios(thetas)\n",
    "\n",
    "prior_results = run_model(\n",
    "    solar_capacity=None,\n",
    "    battery_capacity=None,\n",
    "    **scenarios\n",
    ")\n",
    "\n",
    "print(fmt_design_results(prior_results))"
   ]
  },
  {
   "cell_type": "markdown",
   "id": "4805095f",
   "metadata": {},
   "source": [
    "Could do VoI with discrete design options (i.e. not On-Policy VoI), but is it that informative? Is it worth it?"
   ]
  },
  {
   "cell_type": "code",
   "execution_count": 7,
   "id": "bea27471",
   "metadata": {},
   "outputs": [
    {
     "data": {
      "text/plain": [
       "Ellipsis"
      ]
     },
     "execution_count": 7,
     "metadata": {},
     "output_type": "execute_result"
    }
   ],
   "source": [
    "..."
   ]
  },
  {
   "cell_type": "markdown",
   "id": "0d844061",
   "metadata": {},
   "source": [
    "Perfect information - ToDo"
   ]
  },
  {
   "cell_type": "code",
   "execution_count": 8,
   "id": "f011c8cf",
   "metadata": {},
   "outputs": [
    {
     "data": {
      "application/vnd.jupyter.widget-view+json": {
       "model_id": "c3fab3eb585c45cb8d79220ec08a5b56",
       "version_major": 2,
       "version_minor": 0
      },
      "text/plain": [
       "Solving posterior problems:   0%|          | 0/50 [00:00<?, ?it/s]"
      ]
     },
     "metadata": {},
     "output_type": "display_data"
    }
   ],
   "source": [
    "results = []\n",
    "\n",
    "for theta in tqdm(thetas, desc='Solving posterior problems'):\n",
    "\n",
    "    scenario = build_scenarios([theta])\n",
    "\n",
    "    post_results = run_model(\n",
    "        solar_capacity=None,\n",
    "        battery_capacity=None,\n",
    "        **scenario\n",
    "    )\n",
    "\n",
    "    results.append(post_results)"
   ]
  },
  {
   "cell_type": "code",
   "execution_count": 9,
   "id": "17f1bde2",
   "metadata": {},
   "outputs": [
    {
     "name": "stdout",
     "output_type": "stream",
     "text": [
      "[127815.18030671685, 120865.3389306637, 156025.7716836139, 158242.17697307921, 154998.60253039422, 114305.3889012353, 169921.2475502672, 138050.11146432304, 139420.31143816767, 144550.76440343948, 127684.31931257491, 152319.97949205642, 113216.33949794732, 147127.10692556459, 117304.65631492116, 153193.38034112158, 145579.1921217984, 123326.6543352415, 113227.26090069035, 138987.72212948278, 155495.7946939983, 139367.36188039096, 142371.51960646114, 137744.85367724072, 150412.7705717343, 134728.1393136006, 126751.42361886243, 165380.759945186, 162774.68237574212, 109564.64677557025, 136914.34433777235, 154120.95482347143, 132951.02576260027, 156769.7776059379, 161206.60947810652, 137918.67700750547, 137254.27495578612, 133626.40366652876, 138122.2673964075, 129560.90531208561, 109488.99514247826, 111271.42790535852, 119779.14901382045, 161507.3298473204, 140530.6414448265, 142610.0567324045, 126148.13903071212, 120052.24575693854, 139538.89726843854, 153668.9445557572]\n",
      "138475.89050112688\n"
     ]
    }
   ],
   "source": [
    "print(([r['total'] for r in results]))\n",
    "print(np.mean([r['total'] for r in results]))"
   ]
  },
  {
   "cell_type": "code",
   "execution_count": 10,
   "id": "75288567",
   "metadata": {},
   "outputs": [
    {
     "name": "stdout",
     "output_type": "stream",
     "text": [
      "Prior cost: 146128.29729900052\n",
      "Posterior cost: 138475.89050112688\n",
      "VoI: 7652.406797873642\n",
      "VoI percent: 5.24%\n"
     ]
    }
   ],
   "source": [
    "prior_cost = prior_results['total']\n",
    "preposterior_cost = np.mean([r['total'] for r in results])\n",
    "print(f'Prior cost: {prior_cost}')\n",
    "print(f'Posterior cost: {preposterior_cost}')\n",
    "print(f'VoI: {prior_cost - preposterior_cost}')\n",
    "voi_percent = (prior_cost - preposterior_cost) / prior_cost * 100\n",
    "print(f'VoI percent: {voi_percent:.2f}%')"
   ]
  },
  {
   "cell_type": "markdown",
   "id": "b3f333a1",
   "metadata": {},
   "source": [
    "*Should I take the other uncertainties out for the initial calcs to make the EVPI computations simpler? I.e. not need an expectation per z (actual perfect information, not partial perfect information). Then I could add them back in for the EVII calcs*"
   ]
  },
  {
   "cell_type": "markdown",
   "id": "7ab11a18",
   "metadata": {},
   "source": [
    "Imperfect information"
   ]
  },
  {
   "cell_type": "code",
   "execution_count": 11,
   "id": "2231eea9",
   "metadata": {},
   "outputs": [
    {
     "name": "stdout",
     "output_type": "stream",
     "text": [
      "93.00891298746971\n",
      "[ 95.0375  88.4306  94.5608  95.8217  93.645   93.2319  88.9311  92.6398\n",
      " 101.167   96.7773]\n"
     ]
    }
   ],
   "source": [
    "vsamples = 10\n",
    "print(zs[0])\n",
    "samples = sample_posterior(z=zs[0], nsamples=vsamples, reduction_factor=reduction_factor)\n",
    "print(samples)"
   ]
  },
  {
   "cell_type": "code",
   "execution_count": 12,
   "id": "7a81773f",
   "metadata": {},
   "outputs": [
    {
     "data": {
      "text/plain": [
       "Text(0, 0.5, '')"
      ]
     },
     "execution_count": 12,
     "metadata": {},
     "output_type": "execute_result"
    },
    {
     "data": {
      "image/png": "[encoded data removed]",
      "text/plain": [
       "<Figure size 640x480 with 2 Axes>"
      ]
     },
     "metadata": {},
     "output_type": "display_data"
    }
   ],
   "source": [
    "fig, ax = plt.subplots()\n",
    "\n",
    "sns.kdeplot(thetas,label='prior',color='k',lw=2)\n",
    "\n",
    "ymax = ax.get_ylim()[1]*1.5\n",
    "plt.vlines(zs[0],0,ymax,label='Measurement',color='k', alpha=0.7, ls='--', lw=2)\n",
    "\n",
    "ax2 = ax.twinx()\n",
    "sns.kdeplot(\n",
    "    samples,\n",
    "    #cut=0,\n",
    "    label='posterior',\n",
    "    ax=ax2, c='k', alpha=0.5, lw=2\n",
    ")\n",
    "\n",
    "ax.set_ylim(0,ymax)\n",
    "ax.get_yaxis().set_ticks([])\n",
    "ax.yaxis.set_label_text('Scaled Density')\n",
    "ax2.get_yaxis().set_ticks([])\n",
    "ax2.yaxis.set_label_text('')"
   ]
  },
  {
   "cell_type": "code",
   "execution_count": 13,
   "id": "680ba929",
   "metadata": {},
   "outputs": [
    {
     "data": {
      "application/vnd.jupyter.widget-view+json": {
       "model_id": "135de2532da240bd93811bf816ae0bb1",
       "version_major": 2,
       "version_minor": 0
      },
      "text/plain": [
       "Solving posterior problems:   0%|          | 0/50 [00:00<?, ?it/s]"
      ]
     },
     "metadata": {},
     "output_type": "display_data"
    }
   ],
   "source": [
    "results = []\n",
    "\n",
    "for theta,z in tqdm(zip(thetas, zs), total=tsamples, desc='Solving posterior problems'):\n",
    "\n",
    "    varthetas = sample_posterior(z=z, nsamples=vsamples, reduction_factor=reduction_factor)\n",
    "\n",
    "    scenarios = build_scenarios(varthetas)\n",
    "\n",
    "    post_results = run_model(\n",
    "        solar_capacity=None,\n",
    "        battery_capacity=None,\n",
    "        **scenarios\n",
    "    )\n",
    "\n",
    "    results.append(post_results)"
   ]
  },
  {
   "cell_type": "code",
   "execution_count": 14,
   "id": "4c6594e9",
   "metadata": {},
   "outputs": [
    {
     "name": "stdout",
     "output_type": "stream",
     "text": [
      "[129415.63348884216, 123468.75108561316, 157657.90242423344, 166793.0323077251, 164933.29355667857, 121026.8573303723, 175529.83696773084, 144993.8226930169, 159543.08818188703, 139215.2556706011, 134783.95598637185, 159763.48277142277, 125128.32202116754, 154361.4938940744, 121482.34884237882, 151800.93897785974, 146485.82487718674, 129579.42623709765, 114868.89637141518, 152126.56163443933, 156400.0636931703, 144733.41649647953, 154867.51432170675, 140442.81521929655, 148046.34875114166, 134029.87296008068, 137221.60251807122, 160577.0173755568, 159443.74715283763, 113319.77034739159, 147006.50125993724, 165133.57827015192, 140014.2886165846, 167031.66455134779, 168729.03727786016, 152066.82814089846, 138503.95446575535, 135714.03768132752, 143180.21882581498, 138126.85958590792, 116424.09988465751, 122910.59911795998, 122614.96246559596, 168563.28553222446, 149915.59630009506, 146829.75515151472, 128846.2945173683, 127306.36846347977, 139208.82240370382, 145781.4602070361]\n",
      "143718.98213750136\n"
     ]
    }
   ],
   "source": [
    "print(([r['total'] for r in results]))\n",
    "print(np.mean([r['total'] for r in results]))"
   ]
  },
  {
   "cell_type": "code",
   "execution_count": 15,
   "id": "ef3e88d7",
   "metadata": {},
   "outputs": [
    {
     "name": "stdout",
     "output_type": "stream",
     "text": [
      "Prior cost: 146128.29729900052\n",
      "Posterior cost: 143718.98213750136\n",
      "VoI: 2409.3151614991657\n",
      "VoI percent: 1.65%\n"
     ]
    }
   ],
   "source": [
    "prior_cost = prior_results['total']\n",
    "preposterior_cost = np.mean([r['total'] for r in results])\n",
    "print(f'Prior cost: {prior_cost}')\n",
    "print(f'Posterior cost: {preposterior_cost}')\n",
    "print(f'VoI: {prior_cost - preposterior_cost}')\n",
    "voi_percent = (prior_cost - preposterior_cost) / prior_cost * 100\n",
    "print(f'VoI percent: {voi_percent:.2f}%')"
   ]
  },
  {
   "cell_type": "code",
   "execution_count": null,
   "id": "da1d8df5",
   "metadata": {},
   "outputs": [],
   "source": []
  }
 ],
 "metadata": {
  "kernelspec": {
   "display_name": "VOItute",
   "language": "python",
   "name": "python3"
  },
  "language_info": {
   "codemirror_mode": {
    "name": "ipython",
    "version": 3
   },
   "file_extension": ".py",
   "mimetype": "text/x-python",
   "name": "python",
   "nbconvert_exporter": "python",
   "pygments_lexer": "ipython3",
   "version": "3.10.18"
  }
 },
 "nbformat": 4,
 "nbformat_minor": 5
}
